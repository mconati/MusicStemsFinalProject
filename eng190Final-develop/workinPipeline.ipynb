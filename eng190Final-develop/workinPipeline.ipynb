{
 "cells": [
  {
   "cell_type": "markdown",
   "metadata": {},
   "source": [
    "# Audio Chroma Extraction"
   ]
  },
  {
   "cell_type": "code",
   "execution_count": 1,
   "metadata": {},
   "outputs": [],
   "source": [
    "%matplotlib inline"
   ]
  },
  {
   "cell_type": "code",
   "execution_count": 2,
   "metadata": {},
   "outputs": [],
   "source": [
    "import numpy as np\n",
    "import librosa as lb\n",
    "import matplotlib.pyplot as plt\n",
    "import scipy.signal as ss\n",
    "import glob\n",
    "import os.path\n",
    "import subprocess\n",
    "import pickle\n",
    "import IPython.display as ipd\n",
    "import warnings\n",
    "import math\n",
    "import numpy.matlib"
   ]
  },
  {
   "cell_type": "code",
   "execution_count": 3,
   "metadata": {},
   "outputs": [],
   "source": [
    "warnings.filterwarnings(action='ignore') # to suppress warning messages"
   ]
  },
  {
   "cell_type": "markdown",
   "metadata": {},
   "source": [
    "### STFT Functions"
   ]
  },
  {
   "cell_type": "markdown",
   "metadata": {},
   "source": [
    "Functions for modifying STFTs\n",
    "- magSTFT calculates the normal and magnitude STFT\n",
    "- logCompression applies elementwise logarithmic compression \n",
    "- harmonicSummation sums the harmonics of a log frequency STFT\n"
   ]
  },
  {
   "cell_type": "code",
   "execution_count": 4,
   "metadata": {},
   "outputs": [],
   "source": [
    "def magSTFT(mp3file, sr = 22050, winsize = 2048, hop = 512, gamma = 10000):\n",
    "    '''\n",
    "    Calculate the STFT for an MP3\n",
    "    \n",
    "    Arguments:\n",
    "    mp3file -- target mp3 file\n",
    "    \n",
    "    Returns:\n",
    "    S = STFT\n",
    "    Smag -- magnitude STFT\n",
    "    '''\n",
    "    Y, sr  = lb.core.load(mp3file, sr = sr)\n",
    "    f, t, S = ss.stft(Y, fs = sr, nperseg = winsize, noverlap = winsize - hop)\n",
    "    Smag = np.abs(S)\n",
    "    return S, Smag"
   ]
  },
  {
   "cell_type": "code",
   "execution_count": 5,
   "metadata": {},
   "outputs": [],
   "source": [
    "def harmonicSummation(S_lf, bins=12, numHarmonics=5):\n",
    "    '''\n",
    "    Sum harmonics in a log frequency spectrogram\n",
    "    \n",
    "    Arguments:\n",
    "    S_lf -- log frequency STFT\n",
    "    bins -- bins per octave\n",
    "    numHarmonics -- number of harmonics to sum\n",
    "    \n",
    "    Returns:\n",
    "    harmonicsSummed -- logSTFT with harmonics summed\n",
    "    '''\n",
    "    filterBins = np.round(bins * np.log2(np.arange(numHarmonics)+1)).astype(int)\n",
    "    height = np.amax(filterBins)\n",
    "    filters = np.zeros((height+1, 1))\n",
    "    filters[filterBins] = 1\n",
    "    filters = np.flipud(filters)\n",
    "    harmonicsSummed = ss.convolve2d(S_lf, filters)\n",
    "    harmonicsSummed = harmonicsSummed[harmonicsSummed.shape[0] - S_lf.shape[0]:, :]\n",
    "    return harmonicsSummed"
   ]
  },
  {
   "cell_type": "code",
   "execution_count": 6,
   "metadata": {},
   "outputs": [],
   "source": [
    "def logCompression(F, gamma = 10000):\n",
    "    '''\n",
    "    Apply element-wise logarithmic compression.\n",
    "    \n",
    "    Arguments:\n",
    "    F -- input matrix\n",
    "    gamma -- scalar that controls the level of compression as ln(1 + gamma * c)\n",
    "    \n",
    "    Returns:\n",
    "    Fc -- matrix of logarithmically compressed values.  Fc is of the same size as F.\n",
    "    '''\n",
    "    Fc = np.zeros_like(F)\n",
    "    for x in range(0, len(F)):\n",
    "        for y in range(0, len(F[0])):\n",
    "            Fc[x][y] = np.log(1+gamma*F[x][y])\n",
    "    return Fc"
   ]
  },
  {
   "cell_type": "code",
   "execution_count": 203,
   "metadata": {},
   "outputs": [],
   "source": [
    "def plotLinearSpec(S, hop=512, sr=22050, plotname='test', log = True):\n",
    "    plt.figure(num=None, figsize=(16, 6), dpi=80, facecolor='w', edgecolor='k')\n",
    "    S = abs(S)\n",
    "    title = 'STFT of:  '\n",
    "    if log:\n",
    "        S = np.log(S)\n",
    "        title = 'log STFT of:  '\n",
    "    plt.imshow(S, origin='lower', cmap = 'jet', aspect = 'auto')\n",
    "    plt.title(title + plotname)\n",
    "    plt.xlabel('frame number')\n",
    "    plt.ylabel('Chroma Feature')\n",
    "    plt.colorbar()\n"
   ]
  },
  {
   "cell_type": "markdown",
   "metadata": {},
   "source": [
    "### Extracting Chroma Features from input MP3"
   ]
  },
  {
   "cell_type": "markdown",
   "metadata": {},
   "source": [
    "Chroma feature process\n",
    "- determine the log frequency conversion matrix by calling getLogFreqConversionMatrix()\n",
    "- determine the chroma conversion matrix by calling getChromaConversionMatrix()\n",
    "- sum harmonics on the log frequency matrix\n",
    "- compute chroma features by applying the chroma conversion matrix\n",
    "- apply element-wise logarithmic compression by calling logCompression()\n",
    "- L2 normalize each column by calling normL2()"
   ]
  },
  {
   "cell_type": "code",
   "execution_count": 204,
   "metadata": {},
   "outputs": [],
   "source": [
    "def getLogFreqConversionMatrix(N, fs):\n",
    "    '''\n",
    "    Determine the log frequency conversion matrix that can be used to pre-multiply a one-sided spectrogram\n",
    "    to get a log frequency spectrogram.\n",
    "    \n",
    "    Arguments:\n",
    "    N -- analysis window size\n",
    "    fs -- sampling rate\n",
    "    \n",
    "    Returns:\n",
    "    B -- a binary matrix of shape (128, (N/2)+1).  The log frequency spectrogram can be computed\n",
    "         by computing the matrix product of B and the spectrogram matrix.\n",
    "    '''\n",
    "    numBins = int(N/2) + 1\n",
    "    pitchMax = 128\n",
    "    B = np.zeros((pitchMax, numBins))\n",
    "    p = np.arange(pitchMax)\n",
    "    pitchFrequencies = []\n",
    "    for pitch in range(0, len(p)):\n",
    "        pitchFrequencies.append([440*N/fs * 2**(((pitch-0.5) - 69)/12), 440*N/fs * 2**(((pitch+0.5) - 69)/12)])\n",
    "        initIndex = int(pitchFrequencies[pitch][0])\n",
    "        while initIndex<pitchFrequencies[pitch][1]:\n",
    "            try:\n",
    "                if pitchFrequencies[pitch][0]<initIndex and initIndex<pitchFrequencies[pitch][1]:\n",
    "                    B[pitch][initIndex] = 1\n",
    "            except:\n",
    "                pass\n",
    "            initIndex +=1\n",
    "    return B"
   ]
  },
  {
   "cell_type": "code",
   "execution_count": 205,
   "metadata": {},
   "outputs": [],
   "source": [
    "def getChromaMatrix(logF):\n",
    "    '''\n",
    "    Determine the chroma feature matrix that can be used to pre-multiply a one-sided spectrogram\n",
    "    to calculate chroma features.\n",
    "    \n",
    "    Arguments:\n",
    "    logF -- log Frequency STFT(can have harmonics summed)\n",
    "    \n",
    "    Returns:\n",
    "    F -- a chroma feature matrix with the same number of columns as the STFT, but only 12 rows\n",
    "    '''\n",
    "    F = np.zeros([12, logF.shape[1]])\n",
    "    for c in range(0, logF.shape[1]):\n",
    "        for x in range(0, 12):\n",
    "            num = 0\n",
    "            for y in range(x, logF.shape[0], 12):\n",
    "                num += logF[y][c]\n",
    "            F[x][c] += num\n",
    "    return F"
   ]
  },
  {
   "cell_type": "code",
   "execution_count": 206,
   "metadata": {},
   "outputs": [],
   "source": [
    "def normL2(F):\n",
    "    '''\n",
    "    Normalize each column of a matrix to have unit L2 norm.\n",
    "    \n",
    "    Arguments:\n",
    "    F -- input feature matrix where each column corresponds to a single feature vector\n",
    "    \n",
    "    Returns:\n",
    "    Fnorm -- normalized feature matrix of the same shape as F, where each column has been\n",
    "             been normalized to be unit L2 norm\n",
    "    '''\n",
    "    row, col = F.shape\n",
    "    for x in range(0, col):\n",
    "        norm = np.linalg.norm(F[:,x])\n",
    "        F[:,x] = F[:,x]/ (norm + 1e-9)\n",
    "    Fnorm = F\n",
    "    return Fnorm"
   ]
  },
  {
   "cell_type": "code",
   "execution_count": null,
   "metadata": {},
   "outputs": [],
   "source": [
    "def extractChromaFeatures(mp3file, sr = 22050, winsize = 2048, hop = 512, gamma = 10000):\n",
    "    '''\n",
    "    Compute chroma feature matrix on a specified audio file.\n",
    "    \n",
    "    Arguments:\n",
    "    Smag --  magnitude STFT\n",
    "    sr -- desired sampling rate in Hz\n",
    "    winsize -- analysis window size in samples\n",
    "    hop -- hop size in samples\n",
    "    gamma -- coefficient used in log compression\n",
    "    \n",
    "    Returns:\n",
    "    F -- chroma feature matrix of size (12, M), where M is the number of audio frames.  The\n",
    "         features have logarithmic compression and each column is L2 normalized.\n",
    "    '''\n",
    "    S,Smag = magSTFT(mp3file)\n",
    "    height, width = Smag.shape\n",
    "    B = getLogFreqConversionMatrix(winsize, sr)\n",
    "    logF = np.dot(B,Smag)\n",
    "    logFsummedHarmonics = harmonicSummation(logF)\n",
    "    f = getChromaMatrix(logF) #Change logFsummedHarmonics to logF to test without harmonic summation\n",
    "    f1 = logCompression(f, gamma)\n",
    "    F = normL2(f1)\n",
    "    return F\n",
    "F = extractChromaFeatures('Recordings/2.mp3')\n",
    "plotLinearSpec(F)\n",
    "Fref = two\n",
    "plotLinearSpec(Fref)\n",
    "Fmult = np.dot(Fref, F)\n",
    "plotLinearSpec(Fmult)"
   ]
  },
  {
   "cell_type": "markdown",
   "metadata": {},
   "source": [
    "# Score Chroma Features"
   ]
  },
  {
   "cell_type": "code",
   "execution_count": 227,
   "metadata": {},
   "outputs": [],
   "source": [
    "C= [1,0,0,0,0,0,0,0,0,0,0,0]\n",
    "C = [0,1,0,0,0,0,0,0,0,0,0,0]\n",
    "D= [0,0,1,0,0,0,0,0,0,0,0,0]\n",
    "Ds =[0,0,0,1,0,0,0,0,0,0,0,0] \n",
    "E = [0,0,0,0,1,0,0,0,0,0,0,0] \n",
    "F= [0,0,0,0,0,1,0,0,0,0,0,0] \n",
    "F = [0,0,0,0,0,0,1,0,0,0,0,0] \n",
    "G= [0,0,0,0,0,0,0,1,0,0,0,0] \n",
    "Gs= [0,0,0,0,0,0,0,0,1,0,0,0]\n",
    "A= [0,0,0,0,0,0,0,0,0,1,0,0]\n",
    "As= [0,0,0,0,0,0,0,0,0,0,1,0]\n",
    "B= [0,0,0,0,0,0,0,0,0,0,0,1]\n",
    "K = 0\n",
    "A = list(map(lambda x : x + K, A)) \n",
    "As = list(map(lambda x : x + K, As)) \n",
    "B= list(map(lambda x : x + K, B)) \n",
    "C = list(map(lambda x : x + K, C)) \n",
    "Cs = list(map(lambda x : x + K, Cs)) \n",
    "D = list(map(lambda x : x + K, D)) \n",
    "Ds = list(map(lambda x : x + K, Ds)) \n",
    "E = list(map(lambda x : x + K, E)) \n",
    "F = list(map(lambda x : x + K, F)) \n",
    "Fs = list(map(lambda x : x + K, Fs)) \n",
    "G= list(map(lambda x : x + K, G)) \n",
    "Gs = list(map(lambda x : x + K, Gs)) \n",
    "# A = \"A\"\n",
    "# As = \"As\"\n",
    "# B = \"B\"\n",
    "# C = \"C\"\n",
    "# Cs = \"Cs\"\n",
    "# D = \"D\"\n",
    "# Ds = \"Ds\"\n",
    "# E = \"E\"\n",
    "# F = \"F\"\n",
    "# Fs = \"F\"\n",
    "# G = \"G\"\n",
    "# Gs = \"Gs\"\n",
    "\n",
    "\n",
    "one = np.transpose(np.vstack([A,B,Cs,D,E,Fs,Gs,A,B,Cs,D,E,Fs,Gs,A,B,Cs,D,E,Fs,Gs,A,Gs,Fs,E,D,Cs,B,A,Gs,Fs,E,D,Cs,B,A,Gs,Fs,E,D,Cs,B,A,B,Cs,D,E,Fs,Gs,A,B,Cs,D,E,Fs,Gs,A,B,Cs,D,E,Fs,Gs,A,Gs,Fs,E,D,Cs,B,A,Gs,Fs,E,D,Cs,B,A,Gs,Fs,E,D,Cs,B,A]))\n",
    "\n",
    "two = np.transpose(np.vstack([C,Cs,D,Ds,E,F,Fs,G,Gs,A,As,B,C,Cs,D,Ds,E,F,Fs,G,Gs,A,As,B,C,B,As,A,Gs,G,Fs,F,E,Ds,D,Cs,C,B,As,A,Gs,G,Fs,F,E,Ds,D,Cs,C,\n",
    "       Cs,D,Ds,E,F,Fs,G,Gs,A,As,B,C,Cs,D,Ds,E,F,Fs,G,Gs,A,As,B,C,\n",
    "       B,As,A,Gs,G,Fs,F,E,Ds,D,Cs,C,B,As,A,Gs,G,Fs,F,E,Ds,D,Cs,C]))\n",
    "three = np.transpose(np.vstack([E,D,C,D,E,E,E,D,D,D,E,G,G,E,D,C,D,E,E,E,D,D,D,E,D,C]))\n",
    "#threeT = [3,1,2,2,2,2,4,2,2,4,2,2,4,3,1,2,2,2,2,4,2,1,1,2,2,6]\n",
    "four = np.transpose(np.vstack([A,B,Cs,A,B,Cs,B,A,G,Fs,G,A,B,G,E,A,B,Cs,A,B,Cs,B,A,G,\n",
    "       Fs,B,G,E,A,A,B,Cs,A,B,Cs,B,A,G,Fs,G,A,B,G,E,A,B,Cs,A,B,Cs,B,A,G,\n",
    "       Fs,B,G,E,A]))\n",
    "five = np.transpose(np.vstack([Gs,As,C,Cs,Ds,F,G,Gs,As,C,Cs,Ds,F,G,Gs,\n",
    "        G,F,Ds,Cs,C,As,Gs,G,F,Ds,Cs,C,As,Gs,\n",
    "        As,C,Cs,Ds,F,G,Gs,As,C,Cs,Ds,F,G,Gs,\n",
    "        G,F,Ds,Cs,C,As,Gs,G,F,Ds,Cs,C,As,Gs]))\n",
    "six = np.transpose(np.vstack([Cs, D, F, As, As, Cs, D, F, Gs, Gs, F, G, Cs, D, F, F, Gs,\n",
    "    C, C, D, F, F, F, Ds, D, C, D, Ds, D, C, As, C, D, C, As, A, As,\n",
    "    Cs, B, A, G, A, C, As, Gs, G, F]))\n",
    "\n",
    "seven = np.transpose(np.vstack([Gs, B, Gs, B, Gs, Gs, B, Gs, B, Gs, Gs, B, Gs, B, Gs, \n",
    "    Cs, Gs, B, Gs, Cs, Gs, Cs, B, Gs, Cs, Cs, Cs, Fs, As, Fs, Cs, As, \n",
    "    Gs, G, Fs, D, Cs, D, Cs, Cs, E, Cs, E, Fs, Cs, E, Cs, Cs, E, Cs, A, Gs, E, Cs]))\n",
    "\n",
    "eight = np.transpose(np.vstack([B, As, B, As, Ds, Fs, F, As, Ds, C, B, As, B, As, Ds, Fs, F, As, C, \n",
    "    Ds, B, As, B, As, Ds, Fs, F, As, Ds, C, B, As, B, As, Ds, Fs, F, As, C, Ds,\n",
    "    As, C, Cs, G, F, Ds, F, G, D, C, Gs, A, As, Gs, G, Ds]))\n",
    "\n",
    "nine = np.transpose(np.vstack([G,E,E,F,D,D,C,D,E,F,G,G,G,G,E,E,E,F,D,D,D,C,E,G,G,E,E,\n",
    "    E,D,D,D,D,D,E,F,E,E,E,E,E,F,G,G,E,E,E,F,D,D,D,C,E,G,G,E,E,E]))\n",
    "ten = np.transpose(np.vstack([G,A,G,F,E,F,G,D,E,F,E,F,G,G,A,G,F,E,F,G,D,G,E,C]))\n",
    "eleven = np.transpose(np.vstack([C,D,E,F,G,A,B,C,B,A,G,F,E,D,C,E,G,C,G,E,C]))\n",
    "twelve = np.transpose(np.vstack([C,C,G,G,A,A,G,F,F,E,E,D,D,C,G,G,F,F,E,E,D,G,G,F,F,E,E,D,C,C,G,G,A,A,G,F,F,E,E,D,D,C]))\n",
    "thirteen = np.transpose(np.vstack([A, Fs, D, Fs, G, A, As, C, D, Ds, Fs, G, D, A, Fs, D, Fs, G, D, Cs,As, A, G, Fs, Fs, D, A, Fs, D, As, A, G, A, As, C, D, Ds, Fs, G, D, A, Fs, D, Fs, G, D, Cs, As, A, G, Fs, Fs, D]))\n",
    "fourteen = np.transpose(np.vstack([C,C,D,C,F,E,C,C,D,C,G,F,C,C,C,A,F,E,D,As,As,A,F,G,F,C,C,D,C,F,E,C,C,D,C,G,F,C,C,C,A,F,E,D,As,As,A,F,G,F]))\n",
    "fifteen = np.transpose(np.vstack([Fs, D, G, A, G, Fs, E, Fs, B, Cs, E, D, E, D, Cs, D, B, Cs, B, A, B,\n",
    "    A, Gs, A, Cs, Cs, B, A, B, A, Gs, A, Cs, B, A, Cs, B, Cs, B, A, Cs, Cs, B, As, Cs,\n",
    "    B, Cs, B, As, Fs]))\n",
    "sixteen = np.transpose(np.vstack([A,B,C,D,E,F,G,A,B,C,D,E,F,G,A,G,F,E,D,C,B,A,G,F,E,D,C,B,\n",
    "    A,B,C,D,E,F,G,A,B,C,D,E,F,G,A,G,F,E,D,C,B,A,G,F,E,D,C,B,A]))\n",
    "seventeen = np.transpose(np.vstack([E,E,D,C,C,D,D,E,D,C,G,G,F,E,E,D,C,D,E,C,E,E,F,G,G,\n",
    "    A,A,G,F,E,E,E,F,G,G,A,A,G,E,E,D,C,C,D,D,E,D,C,G,G,F,E,E,D,C,D,E,C]))\n",
    "eighteen = np.transpose(np.vstack([C,F,E,F,A,C,F,F,E,D,C,F,G,A,As,D,F,G,A,\n",
    "    C,G,C,F,E,F,A,C,A,A,G,F,E,F,A,D,F,E,Ds,D,E,C]))\n",
    "nineteen = np.transpose(np.vstack([B,G,Fs,E,D,A,B,G,Fs,E,D,A,B,G,E,D,C,G,A,D,B,B,C,A,B,G,A,Fs,G,E,Fs,G,A,B]))\n",
    "twenty = np.transpose(np.vstack([C,D,E,F,G,A,B,C,B,A,G,F,E,D,C]))\n",
    "twentyone = np.transpose(np.vstack([A,Cs,E,A,Cs,E,A,E,Cs,A,E,Cs,A,Cs,E,A,Cs,E,A,E,Cs,A,\n",
    "    E,Cs,A,Cs,E,A,Cs,E,A,E,Cs,A,E,Cs,A,Cs,E,A,Cs,E,A,E,Cs,A,E,Cs,A]))\n",
    "\n",
    "twentytwo = np.transpose(np.vstack([E,D,C,G,F,E,E,D,C,G,F,E,G,F,E,D,C,C,A,E,F,Fs,G,C,Ds,E,C,E,D,C,G,F,E,E,D,C,G,F,E,G,F,E,D,C,C,A,E,F,Fs,G,C,Ds,E,C]))\n",
    "\n",
    "twentythree = np.transpose(np.vstack([D,C,A,C,C,D,C,G,E,C,D,C,A,C,B,B,B,B,A,G,E,D,C,G,F,E,E,D,C,G,F,E,G,F,E,D,C,C,A,E,F,Fs,G,C,Ds,E,C]))\n",
    "\n",
    "twentyfour = np.transpose(np.vstack([G,Fs,G,Fs,E,G,Fs,G,Fs,G,Fs,E,Gs,B,Gs,F,E,A,G,A,G,E,A,G,Ds,G,D,E,G,A,B,E,D,G,Fs,G,Fs,E,G,Fs,G,Fs,G,Fs,E,Gs,B,Gs,F,E,A,G,A,G,E,A,G,Ds,G,D,E,G,A,As,A,G]))\n",
    "twentyfive = np.transpose(np.vstack([Ds,C,Ds,C,As,G,As,C,D,Ds,C,Ds,As,Ds,C,E,C,As,G,As,C,D,Ds,As,C,D,G,Fs,G,Fs,E,G,Fs,G,Fs,G,Fs,E,Gs,B,Gs,F,E,A,G,A,G,E,A,G,Ds,G,D,E,G,A,As,A,G]))\n",
    "twentysix = np.transpose(np.vstack([A,D,E,F,E,F,B,A,G,Fs,G,D,Cs,C,B,A,Gs,A,G,G,A,B,E,E,G,G,G,Gs,Gs,Gs,A,A,B,B,B]))\n",
    "twentyseven = np.transpose(np.vstack([As,C,D,As,C,D,As,C,D,F,Ds,D,As,C,Cs,Ds,F,G,Ds,F,G,Ds,F,G,As,Gs,G,Ds,F,Fs,F,G,Gs,A,B,E,G,As,B,E,Ds,C,B,A,G,F,G,Gs,As,Ds,G,As,B,E,Ds,C,As,Gs,G]))\n",
    "twentyeight = np.transpose(np.vstack([G,E,E,D,G,E,E,E,D,G,E,E,D,G,G,E,E,E,D,F,D,D,D,C,E,C,C,C,As,C,G,E,E,D,G,E,E,E,D,G,E,E,D,G,G,E,E,E,D,F,D,D,D,C,E,C,C,C,As,C]))\n",
    "twentynine = np.transpose(np.vstack([F,Fs,Ds,F,Ds,Cs,Ds,Gs,A,Gs,Fs,Gs,Fs,E,Fs,A,As,A,G,A,G,F,G,A,As,C,C,D,E,F,G,Gs,A,As,As,C,D,E,F,Fs,G,E,E,D,G,E,E,E,D,G,E,E,D,G,G,E,E,E,D,A,F,F,F,D,C,E,E,E,D,D]))\n",
    "thirty = np.transpose(np.vstack([Ds,F,G,G,F,Ds,F,G,G,F,As,C,Cs,Cs,C,As,C,Cs,As,G,G,G,F,C,G,G,F,B,G,As,As,G,As,G,G,As,As,C,Ds,Ds,Ds,F,G,G,F,Ds,F,G,G,F,As,C,Cs,Cs,C,As,C,Cs,As,G,G,G,F,C,G,G,F,B,G,As,As,G,As,G,G,As,As,C,Ds,Ds]))\n",
    "thirtyone = np.transpose(np.vstack([Ds,C,Ds,C,Ds,C,Ds,D,As,D,As,D,Ds,C,Ds,C,Ds,C,Ds,As,C,C,C,F,Ds,F,G,G,F,Ds,F,G,G,F,As,C,Cs,Cs,C,As,C,Cs,As,G,G,G,F,C,G,G,F,B,G,As,As,G,As,G,G,As,As,As,C,Ds,Ds]))\n",
    "thirtytwo = np.transpose(np.vstack([G,G,As,G,F,G,G,G,As,G,F,G,G,G,As,G,F,G,G,G,As,G,F,G,D,G,A,As,As,C,As,G,G,A,As,As,F,Gs,Gs,Gs,As,Gs,Fs,F,F,F,Gs,Gs,Cs,Fs,Gs,A,A,A,B,A,Fs,Fs,A,A,A,A,A,A,B,A,Fs,Fs,A,A,D,D,C,D,C,As,D,C,C,As,As,C,C,G,G,G,F,Ds,F,G,As,G,Ds,F,Fs]))\n",
    "thirtythree = np.transpose(np.vstack([A,D,C,D,C,D,E,F,G,A,As,C,D,G,F,G,F,A,As,A,D,C,D,C,D,E,F,G,A,As,C,D,G,F,G,F,A,C,D,D,D,C,As,F,G,Gs,Gs,Gs,Gs,Gs,Fs,Cs,Ds,E,E,E,E,E,D,Fs,A,Cs,Cs,As,A,D,C,D,C,D,E,F,G,A,As,C,D,E,D,A,G,F]))\n",
    "thirtyfour = np.transpose(np.vstack([A,Gs,As,C,C,Ds,D,As,G,C,Ds,C,As,G,F,As,F,G,F,Gs,As,C,C,Ds,F,D,C,C,Ds,C,As,G,F,As,F,G,C,G,Ds,F,G,Gs,As,C,Gs,F,G,Gs,As,C,D,E,D,As,A,A,A,Gs,As,C,C,Ds,D,As,G,C,Ds,C,As,G,F,As,F,G,F,Gs,As,C,C,Ds,F,D,C,C,Ds,C,As,G,F,As,F,G]))\n",
    "thirtyfive = np.transpose(np.vstack([D,G,A,A,B,D,G,A,As,C,F,G,G,A,C,F,G,Gs,D,Ds,F,G,G,G,G,G,G,A,G,A,As,A,G,A,B,A,B,C,D,D,D,D,D,D,G,A,A,B,D,G,A,As,C,F,G,G,A,C,F,G,Gs,D,Ds,F,G,G,G,G,G,G,A,G,A,B,A,B,C,D,D,D,D,D,D,G,A,G]))\n",
    "thirtysix = np.transpose(np.vstack([A,As,A,As,A,As,A,As,A,Gs,A,C,B,As,A,A,G,G,A,G,A,G,A,G,A,G,Fs,G,As,A,Gs,G,G,F,F,G,F,G,F,G,F,G,A,F,D,E,D,E,F,F,F,G,F,G,E,F,E,F,E,Ds,E,G,Fs,F,E,E,D]))\n",
    "thirtyseven = np.transpose(np.vstack([E,F,G,B,A,G,E,D,E,G,E,D,E,G,E,D,E,C,E,G,A,B,C,C,C,D,B,A,A,G,E,Fs,G,G,G,A,Fs,G,E,F,G,B,A,G,E,D,E,G,E,D,E,G,E,D,E,C,E,G,A,B,C,C,C,D,B,As,As,A,G,F,E,E,D,C,B,C]))\n",
    "thirtyeight = np.transpose(np.vstack([Ds,F,G,As,C,As,C,As,Cs,C,As,Ds,F,G,As,C,As,Cs,C,As,Ds,F,F,D,C,A,F,D,C,F,C,D,F,Cs,Ds,Cs,Fs,F,D,C,A,F,D,C,F,A,A,F,C,D,F,F,D,C,A,F,D,C,F,C,D,F,Cs,Ds,Cs,Fs,F,D,C,A,F,D,C,F,A,A,F,C,D,F,C,G,Cs,C,C,D,F,Cs,Gs,Cs,D,Ds,E,F,D,C,A,F,D,C,F,C,D,F,Cs,Ds,Cs,Fs,F,D,C,A,F,D,C,F,A,A,F,C,D,F]))\n",
    "thirtynine = np.transpose(np.vstack([C,Ds,G,As,A,Ds,F,G,G,G,B,D,F,D,Ds,C,Ds,F,G,Ds,C,Ds,Ds,As,G,F,D,Ds,F,G,Gs,As,As,B,Gs,D,As,C,G,C,D,Ds,D,C,As,C,D,D,G,A,As,A,G,Gs]))\n",
    "forty = np.transpose(np.vstack([As,G,F,D,Ds,F,G,Gs,As,As,B,Gs,D,As,C,G,C,D,Ds,F,As,C,Cs,C,F,C,Fs,D,G,Ds,C,D,Ds,D,C,As,C,D,Cs,C,Ds,F,G,C,Ds,F,Fs,B,As,F,G,Gs,Gs,As,Gs,G,F,G,G,C,D,Ds,Ds,F,Ds,D,C,D,G,As,D,C,As,G,F,D,Ds,D,G,Gs,As,As,B,Gs,D,B,C,G,C,D,Ds,F,As,C,Cs,C,Ds,F,G,C,Ds,F,Fs,D,Ds]))\n",
    "fortyone = np.transpose(np.vstack([C,B,B,A,B,C,B,A,B,B,As,E,A,E,F,G,D,E,F,F,E,F,E,F,E,E,E,E,F,E,G,F,E,D,E,D,F,E,C,C,D,E,C,D,E,A,B,G,A,B,C,B,B,A,B,C,B,A,B,B,As,E,A,E,F,G,D,E,F,F,E,F,E,F,E,G,F,E,B,Gs,A,D,As,C,A,B,A,B,C]))\n"
   ]
  },
  {
   "cell_type": "markdown",
   "metadata": {},
   "source": [
    "# Subsequence DTW"
   ]
  },
  {
   "cell_type": "markdown",
   "metadata": {},
   "source": [
    "DTW overall process\n",
    "- compute the cost matrix based on cosine distance\n",
    "- use dynamic programming to find our cumulative cost matrix and our backtrace matrix\n",
    "- construct the optima"
   ]
  },
  {
   "cell_type": "code",
   "execution_count": 235,
   "metadata": {},
   "outputs": [],
   "source": [
    "def computeCostMatrix_cosdist(Fquery,Fref):\n",
    "    '''\n",
    "    Computes the cosine distance cost matrix.\n",
    "    \n",
    "    Arguments:\n",
    "    Fquery -- the query chroma feature matrix of dimension (12, # query frames), this feature\n",
    "              matrix is assumed to be L2 normalized\n",
    "    Fref -- the reference feature matrix, of dimension (12, # reference frames), this feature\n",
    "            matrix is assumed to be L2 normalized\n",
    "    \n",
    "    Returns:\n",
    "    C -- cost matrix whose (i,j)th element specifies the cosine distance between the i-th query frame\n",
    "         and the j-th reference frame\n",
    "    '''\n",
    "    product = np.dot(np.transpose(Fquery), Fref)\n",
    "    ones = np.ones_like(product)\n",
    "    C = 1- product\n",
    "\n",
    "    return C"
   ]
  },
  {
   "cell_type": "code",
   "execution_count": 236,
   "metadata": {},
   "outputs": [],
   "source": [
    "def subsequenceDTW(C, steps, weights):\n",
    "    '''\n",
    "    Find the optimal subsequence path through cost matrix C.\n",
    "    \n",
    "    Arguments:\n",
    "    C -- cost matrix of dimension (# query frames, # reference frames)\n",
    "    steps -- a numpy matrix specifying the allowable transitions.  It should be of\n",
    "            dimension (L, 2), where each row specifies (row step, col step)\n",
    "    weights -- a vector of size L specifying the multiplicative weights associated \n",
    "                with each of the allowable transitions\n",
    "                \n",
    "    Returns:\n",
    "    optcost -- the optimal subsequence path score\n",
    "    path -- a matrix with 2 columns specifying the optimal subsequence path.  Each row \n",
    "            specifies the (row, col) coordinate.\n",
    "    '''\n",
    "    D = np.zeros(C.shape)\n",
    "    x, y = D.shape\n",
    "    B = np.zeros(C.shape)\n",
    "    #Initialize the first row to be the same as the Cost matrix\n",
    "    for i in range(0, y):\n",
    "        D[0,i] = C[0,i]\n",
    "    #Loop through the rest of the entries in D, filling them with the minimum cost possible with the provided steps and weights \n",
    "    for j in range(0, y):\n",
    "        for i in range(1, x):\n",
    "            minimum = math.inf\n",
    "            B[i,j] = -1\n",
    "            for idx, step in enumerate(steps):\n",
    "                if i-step[0]>-1 and j-step[1]>-1:\n",
    "                    if (weights[idx] *C[i,j] + D[i-step[0], j-step[1]]) < minimum:\n",
    "                        minimum = weights[idx] *C[i,j] + D[i-step[0], j-step[1]]\n",
    "                        B[i,j] = idx\n",
    "            D[i, j] = minimum\n",
    "    #Backtrace and find the optimal path\n",
    "    path = backtrace(D,B,steps)\n",
    "    path = np.array(path)\n",
    "    #The minimum cost value in the last row is our optimal cost\n",
    "    endindex =  np.where(D[-1][:] == np.amin(D[-1][:]))[0][0]\n",
    "    optcost = D[-1][endindex]\n",
    "    return optcost, path\n"
   ]
  },
  {
   "cell_type": "code",
   "execution_count": 237,
   "metadata": {},
   "outputs": [],
   "source": [
    "def backtrace(D, B, steps):\n",
    "    '''\n",
    "    Backtraces through the cumulative cost matrix D.\n",
    "    \n",
    "    Arguments:\n",
    "    D -- cumulative cost matrix\n",
    "    B -- backtrace matrix\n",
    "    steps -- a numpy matrix specifying the allowable transitions.  It should be of\n",
    "            dimension (L, 2), where each row specifies (row step, col step)\n",
    "    \n",
    "    Returns:\n",
    "    path -- a python list of (row, col) coordinates for the optimal path.\n",
    "    '''\n",
    "    \n",
    "    #Follow the steps back to row zero\n",
    "    path = []\n",
    "    endindex =  np.where(D[-1][:] == np.amin(D[-1][:]))[0][0]\n",
    "    point = [D.shape[0]-1, endindex]\n",
    "    path.append(point)\n",
    "    #iterate through all transitions\n",
    "    while point[0]>0:\n",
    "        stepNum = B[point[0],point[1]]\n",
    "        transition = steps[int(stepNum)]\n",
    "        point = [int(point[0]-transition[0]),int(point[1]-transition[1])]\n",
    "        path.append(point)\n",
    "        \n",
    "    \n",
    "    return path"
   ]
  },
  {
   "cell_type": "code",
   "execution_count": 238,
   "metadata": {},
   "outputs": [
    {
     "name": "stdout",
     "output_type": "stream",
     "text": [
      "(1191, 12) (12, 97)\n"
     ]
    }
   ],
   "source": [
    "steps = np.array([1, 0, 1, 1, 2, 1, 1, 2]).reshape((4,2))\n",
    "weights = [1,1,1,1]\n",
    "Fquery = extractChromaFeatures('Recordings/2.mp3')\n",
    "Fref = two\n",
    "Y = Fref\n",
    "X = np.transpose(Fquery)\n",
    "print(X.shape, Y.shape)\n",
    "Cost = computeCostMatrix_cosdist(Fquery,Fref)\n",
    "#D, path = lb.sequence.dtw(Y = None, X = None, C = Cost, step_sizes_sigma=steps, weights_mul=weights, metric = 'cosine', subseq=True)\n",
    "optcost, path = subsequenceDTW(Cost, steps, weights)"
   ]
  },
  {
   "cell_type": "markdown",
   "metadata": {},
   "source": [
    "# Important notes\n",
    "So far, this just uses the built in dtw. I put my own dtw code above in case you want to use that instead. To plot my dtw patch, swap point[1] and point[0] in the plotter. I think we should just use the built in one unless we want to add functionality that isn't possible with the built in one for runtime sake"
   ]
  },
  {
   "cell_type": "code",
   "execution_count": 239,
   "metadata": {},
   "outputs": [
    {
     "data": {
      "text/plain": [
       "Text(0.5, 1.0, 'Optimal Path')"
      ]
     },
     "execution_count": 239,
     "metadata": {},
     "output_type": "execute_result"
    },
    {
     "data": {
      "image/png": "[encoded data removed]",
      "text/plain": [
       "<Figure size 432x288 with 2 Axes>"
      ]
     },
     "metadata": {
      "needs_background": "light"
     },
     "output_type": "display_data"
    }
   ],
   "source": [
    "### START CODE BLOCK ###\n",
    "import matplotlib.cm as cm\n",
    "fig = plt.figure(1)\n",
    "ax = fig.add_subplot(111)\n",
    "plot1 = plt.imshow(Cost.T, origin='lower', cmap='Reds', interpolation='nearest', aspect = 'auto')\n",
    "plt.colorbar()\n",
    "path_x = [point[0] for point in path]\n",
    "path_y = [point[1] for point in path]\n",
    "plot2 = plt.plot(path_x, path_y, 'B')\n",
    "xlim = ax.set_xlim((-0.5, Cost.shape[0]-0.5))\n",
    "ylim = ax.set_ylim((-0.5, Cost.shape[1]-0.5))\n",
    "plt.xlabel(\"Rows(Query points)\")\n",
    "plt.ylabel(\"Cols(Reference points)\")\n",
    "plt.title(\"Optimal Path\")"
   ]
  },
  {
   "cell_type": "code",
   "execution_count": 240,
   "metadata": {},
   "outputs": [
    {
     "name": "stdout",
     "output_type": "stream",
     "text": [
      "[[1190   96]\n",
      " [1188   95]\n",
      " [1187   95]\n",
      " ...\n",
      " [   3    1]\n",
      " [   2    1]\n",
      " [   0    0]]\n"
     ]
    }
   ],
   "source": [
    "endCol = path[1][0]\n",
    "print(path)"
   ]
  },
  {
   "cell_type": "code",
   "execution_count": 241,
   "metadata": {},
   "outputs": [
    {
     "name": "stdout",
     "output_type": "stream",
     "text": [
      "1188 97\n"
     ]
    }
   ],
   "source": [
    "print(endCol, two.shape[1])"
   ]
  },
  {
   "cell_type": "markdown",
   "metadata": {},
   "source": [
    "For all of the testcases I ran, the endpoint doesnt quite match up. We have work to do lol"
   ]
  },
  {
   "cell_type": "code",
   "execution_count": null,
   "metadata": {},
   "outputs": [],
   "source": []
  }
 ],
 "metadata": {
  "kernelspec": {
   "display_name": "Python 3",
   "language": "python",
   "name": "python3"
  },
  "language_info": {
   "codemirror_mode": {
    "name": "ipython",
    "version": 3
   },
   "file_extension": ".py",
   "mimetype": "text/x-python",
   "name": "python",
   "nbconvert_exporter": "python",
   "pygments_lexer": "ipython3",
   "version": "3.7.6"
  }
 },
 "nbformat": 4,
 "nbformat_minor": 2
}
