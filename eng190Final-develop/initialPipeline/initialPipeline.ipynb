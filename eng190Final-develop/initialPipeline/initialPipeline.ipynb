{
 "cells": [
  {
   "cell_type": "markdown",
   "metadata": {},
   "source": [
    "# Audio Chroma Extraction"
   ]
  },
  {
   "cell_type": "code",
   "execution_count": 1,
   "metadata": {},
   "outputs": [],
   "source": [
    "%matplotlib inline"
   ]
  },
  {
   "cell_type": "code",
   "execution_count": 2,
   "metadata": {},
   "outputs": [
    {
     "name": "stderr",
     "output_type": "stream",
     "text": [
      "D:\\ProgramFiles\\anaconda3\\envs\\e207\\lib\\site-packages\\librosa\\util\\decorators.py:9: NumbaDeprecationWarning: \u001b[1mAn import was requested from a module that has moved location.\n",
      "Import requested from: 'numba.decorators', please update to use 'numba.core.decorators' or pin to Numba version 0.48.0. This alias will not be present in Numba version 0.50.0.\u001b[0m\n",
      "  from numba.decorators import jit as optional_jit\n",
      "D:\\ProgramFiles\\anaconda3\\envs\\e207\\lib\\site-packages\\librosa\\util\\decorators.py:9: NumbaDeprecationWarning: \u001b[1mAn import was requested from a module that has moved location.\n",
      "Import of 'jit' requested from: 'numba.decorators', please update to use 'numba.core.decorators' or pin to Numba version 0.48.0. This alias will not be present in Numba version 0.50.0.\u001b[0m\n",
      "  from numba.decorators import jit as optional_jit\n"
     ]
    }
   ],
   "source": [
    "import numpy as np\n",
    "import librosa as lb\n",
    "import matplotlib.pyplot as plt\n",
    "import scipy.signal as ss\n",
    "import glob\n",
    "import os.path\n",
    "import subprocess\n",
    "import pickle\n",
    "import IPython.display as ipd\n",
    "import warnings\n",
    "import math\n",
    "import numpy.matlib\n",
    "import scipy.spatial"
   ]
  },
  {
   "cell_type": "code",
   "execution_count": 3,
   "metadata": {},
   "outputs": [],
   "source": [
    "warnings.filterwarnings(action='ignore') # to suppress warning messages"
   ]
  },
  {
   "cell_type": "markdown",
   "metadata": {},
   "source": [
    "### STFT Functions"
   ]
  },
  {
   "cell_type": "markdown",
   "metadata": {},
   "source": [
    "Functions for modifying STFTs\n",
    "- magSTFT calculates the normal and magnitude STFT\n",
    "- logCompression applies elementwise logarithmic compression \n",
    "- harmonicSummation sums the harmonics of a log frequency STFT\n"
   ]
  },
  {
   "cell_type": "code",
   "execution_count": 4,
   "metadata": {},
   "outputs": [],
   "source": [
    "def magSTFT(mp3file, sr = 22050, winsize = 2048, hop = 2048, gamma = 10000):\n",
    "    '''\n",
    "    Calculate the STFT for an MP3\n",
    "    \n",
    "    Arguments:\n",
    "    mp3file -- target mp3 file\n",
    "    \n",
    "    Returns:\n",
    "    S = STFT\n",
    "    Smag -- magnitude STFT\n",
    "    '''\n",
    "    Y, sr  = lb.core.load(mp3file, sr = sr)\n",
    "    f, t, S = ss.stft(Y, fs = sr, nperseg = winsize, noverlap = winsize - hop)\n",
    "    Smag = np.abs(S)\n",
    "    return S, Smag"
   ]
  },
  {
   "cell_type": "code",
   "execution_count": 5,
   "metadata": {},
   "outputs": [],
   "source": [
    "def harmonicSummation(S_lf, bins=12, numHarmonics=5):\n",
    "    '''\n",
    "    Sum harmonics in a log frequency spectrogram\n",
    "    \n",
    "    Arguments:\n",
    "    S_lf -- log frequency STFT\n",
    "    bins -- bins per octave\n",
    "    numHarmonics -- number of harmonics to sum\n",
    "    \n",
    "    Returns:\n",
    "    harmonicsSummed -- logSTFT with harmonics summed\n",
    "    '''\n",
    "    filterBins = np.round(bins * np.log2(np.arange(numHarmonics)+1)).astype(int)\n",
    "    height = np.amax(filterBins)\n",
    "    filters = np.zeros((height+1, 1))\n",
    "    filters[filterBins] = 1\n",
    "    filters = np.flipud(filters)\n",
    "    harmonicsSummed = ss.convolve2d(S_lf, filters)\n",
    "    harmonicsSummed = harmonicsSummed[harmonicsSummed.shape[0] - S_lf.shape[0]:, :]\n",
    "    return harmonicsSummed"
   ]
  },
  {
   "cell_type": "code",
   "execution_count": 6,
   "metadata": {},
   "outputs": [],
   "source": [
    "def logCompression(F, gamma = 10000):\n",
    "    '''\n",
    "    Apply element-wise logarithmic compression.\n",
    "    \n",
    "    Arguments:\n",
    "    F -- input matrix\n",
    "    gamma -- scalar that controls the level of compression as ln(1 + gamma * c)\n",
    "    \n",
    "    Returns:\n",
    "    Fc -- matrix of logarithmically compressed values.  Fc is of the same size as F.\n",
    "    '''\n",
    "    Fc = np.zeros_like(F)\n",
    "    for x in range(0, len(F)):\n",
    "        for y in range(0, len(F[0])):\n",
    "            Fc[x][y] = np.log(1+gamma*F[x][y])\n",
    "    return Fc"
   ]
  },
  {
   "cell_type": "code",
   "execution_count": 7,
   "metadata": {},
   "outputs": [],
   "source": [
    "def plotLinearSpec(S, hop=2048, sr=22050, plotname='test', log = True):\n",
    "    plt.figure(num=None, figsize=(16, 6), dpi=80, facecolor='w', edgecolor='k')\n",
    "    S = abs(S)\n",
    "    title = 'STFT of:  '\n",
    "    if log:\n",
    "        S = np.log(S)\n",
    "        title = 'log STFT of:  '\n",
    "    plt.imshow(S, origin='lower', cmap = 'jet', aspect = 'auto')\n",
    "    plt.title(title + plotname)\n",
    "    plt.xlabel('frame number')\n",
    "    plt.ylabel('Chroma Feature')\n"
   ]
  },
  {
   "cell_type": "markdown",
   "metadata": {},
   "source": [
    "### Extracting Chroma Features from input MP3"
   ]
  },
  {
   "cell_type": "markdown",
   "metadata": {},
   "source": [
    "Chroma feature process\n",
    "- determine the log frequency conversion matrix by calling getLogFreqConversionMatrix()\n",
    "- determine the chroma conversion matrix by calling getChromaConversionMatrix()\n",
    "- sum harmonics on the log frequency matrix\n",
    "- compute chroma features by applying the chroma conversion matrix\n",
    "- apply element-wise logarithmic compression by calling logCompression()\n",
    "- L2 normalize each column by calling normL2()"
   ]
  },
  {
   "cell_type": "code",
   "execution_count": 8,
   "metadata": {},
   "outputs": [],
   "source": [
    "def getLogFreqConversionMatrix(N, fs):\n",
    "    '''\n",
    "    Determine the log frequency conversion matrix that can be used to pre-multiply a one-sided spectrogram\n",
    "    to get a log frequency spectrogram.\n",
    "    \n",
    "    Arguments:\n",
    "    N -- analysis window size\n",
    "    fs -- sampling rate\n",
    "    \n",
    "    Returns:\n",
    "    B -- a binary matrix of shape (128, (N/2)+1).  The log frequency spectrogram can be computed\n",
    "         by computing the matrix product of B and the spectrogram matrix.\n",
    "    '''\n",
    "    numBins = int(N/2) + 1\n",
    "    pitchMax = 128\n",
    "    B = np.zeros((pitchMax, numBins))\n",
    "    p = np.arange(pitchMax)\n",
    "    pitchFrequencies = []\n",
    "    for pitch in range(0, len(p)):\n",
    "        pitchFrequencies.append([440*N/fs * 2**(((pitch-0.5) - 69)/12), 440*N/fs * 2**(((pitch+0.5) - 69)/12)])\n",
    "        initIndex = int(pitchFrequencies[pitch][0])\n",
    "        while initIndex<pitchFrequencies[pitch][1]:\n",
    "            try:\n",
    "                if pitchFrequencies[pitch][0]<initIndex and initIndex<pitchFrequencies[pitch][1]:\n",
    "                    B[pitch][initIndex] = 1\n",
    "            except:\n",
    "                pass\n",
    "            initIndex +=1\n",
    "    return B"
   ]
  },
  {
   "cell_type": "code",
   "execution_count": 9,
   "metadata": {},
   "outputs": [],
   "source": [
    "def getChromaMatrix(logF):\n",
    "    '''\n",
    "    Determine the chroma feature matrix that can be used to pre-multiply a one-sided spectrogram\n",
    "    to calculate chroma features.\n",
    "    \n",
    "    Arguments:\n",
    "    logF -- log Frequency STFT(can have harmonics summed)\n",
    "    \n",
    "    Returns:\n",
    "    F -- a chroma feature matrix with the same number of columns as the STFT, but only 12 rows\n",
    "    '''\n",
    "    F = np.zeros([12, logF.shape[1]])\n",
    "    for c in range(0, logF.shape[1]):\n",
    "        for x in range(0, 12):\n",
    "            num = 0\n",
    "            for y in range(x, logF.shape[0], 12):\n",
    "                num += logF[y][c]\n",
    "            F[x][c] += num\n",
    "    return F"
   ]
  },
  {
   "cell_type": "code",
   "execution_count": 10,
   "metadata": {},
   "outputs": [],
   "source": [
    "def normL2(F):\n",
    "    '''\n",
    "    Normalize each column of a matrix to have unit L2 norm.\n",
    "    \n",
    "    Arguments:\n",
    "    F -- input feature matrix where each column corresponds to a single feature vector\n",
    "    \n",
    "    Returns:\n",
    "    Fnorm -- normalized feature matrix of the same shape as F, where each column has been\n",
    "             been normalized to be unit L2 norm\n",
    "    '''\n",
    "    row, col = F.shape\n",
    "    for x in range(0, col):\n",
    "        norm = np.linalg.norm(F[:,x])\n",
    "        F[:,x] = F[:,x]/ (norm + 1e-9)\n",
    "    Fnorm = F\n",
    "    return Fnorm"
   ]
  },
  {
   "cell_type": "code",
   "execution_count": 11,
   "metadata": {},
   "outputs": [],
   "source": [
    "def extractChromaFeatures(mp3file, sr = 22050, winsize = 2048, hop = 2048, gamma = 10000):\n",
    "    '''\n",
    "    Compute chroma feature matrix on a specified audio file.\n",
    "    \n",
    "    Arguments:\n",
    "    Smag --  magnitude STFT\n",
    "    sr -- desired sampling rate in Hz\n",
    "    winsize -- analysis window size in samples\n",
    "    hop -- hop size in samples\n",
    "    gamma -- coefficient used in log compression\n",
    "    \n",
    "    Returns:\n",
    "    F -- chroma feature matrix of size (12, M), where M is the number of audio frames.  The\n",
    "         features have logarithmic compression and each column is L2 normalized.\n",
    "    '''\n",
    "    S,Smag = magSTFT(mp3file)\n",
    "    height, width = Smag.shape\n",
    "    B = getLogFreqConversionMatrix(winsize, sr)\n",
    "    logF = np.dot(B,Smag)\n",
    "    logFsummedHarmonics = harmonicSummation(logF)\n",
    "    f = getChromaMatrix(logFsummedHarmonics) #Change logFsummedHarmonics to logF to test without harmonic summation\n",
    "    f1 = logCompression(f, gamma)\n",
    "    F = normL2(f1)\n",
    "    return F"
   ]
  },
  {
   "cell_type": "markdown",
   "metadata": {},
   "source": [
    "# Score Chroma Features"
   ]
  },
  {
   "cell_type": "code",
   "execution_count": 12,
   "metadata": {},
   "outputs": [],
   "source": [
    "C = [1,0,0,0,0,0,0,0,0,0,0,0]\n",
    "Cs = [0,1,0,0,0,0,0,0,0,0,0,0]\n",
    "D = [0,0,1,0,0,0,0,0,0,0,0,0]\n",
    "Ds = [0,0,0,1,0,0,0,0,0,0,0,0]\n",
    "E = [0,0,0,0,1,0,0,0,0,0,0,0]\n",
    "F = [0,0,0,0,0,1,0,0,0,0,0,0]\n",
    "Fs = [0,0,0,0,0,0,1,0,0,0,0,0]\n",
    "G = [0,0,0,0,0,0,0,1,0,0,0,0]\n",
    "Gs = [0,0,0,0,0,0,0,0,1,0,0,0]\n",
    "A = [0,0,0,0,0,0,0,0,0,1,0,0]\n",
    "As = [0,0,0,0,0,0,0,0,0,0,1,0]\n",
    "B = [0,0,0,0,0,0,0,0,0,0,0,1]\n",
    "\n",
    "\n",
    "# A = \"A\"\n",
    "# As = \"As\"\n",
    "# B = \"B\"\n",
    "# C = \"C\"\n",
    "# Cs = \"Cs\"\n",
    "# D = \"D\"\n",
    "# Ds = \"Ds\"\n",
    "# E = \"E\"\n",
    "# F = \"F\"\n",
    "# Fs = \"F\"\n",
    "# G = \"G\"\n",
    "# Gs = \"Gs\"\n",
    "\n",
    "\n",
    "one = np.transpose(np.vstack([A,B,Cs,D,E,Fs,Gs,A,B,Cs,D,E,Fs,Gs,A,B,Cs,D,E,Fs,Gs,A,Gs,Fs,E,D,Cs,B,A,Gs,Fs,E,D,Cs,B,A,Gs,Fs,E,D,Cs,B,A,B,Cs,D,E,Fs,Gs,A,B,Cs,D,E,Fs,Gs,A,B,Cs,D,E,Fs,Gs,A,Gs,Fs,E,D,Cs,B,A,Gs,Fs,E,D,Cs,B,A,Gs,Fs,E,D,Cs,B,A]))\n",
    "\n",
    "two = np.transpose(np.vstack([C,Cs,D,Ds,E,F,Fs,G,Gs,A,As,B,C,Cs,D,Ds,E,F,Fs,G,Gs,A,As,B,C,B,As,A,Gs,G,Fs,F,E,Ds,D,Cs,C,B,As,A,Gs,G,Fs,F,E,Ds,D,Cs,C,\n",
    "       Cs,D,Ds,E,F,Fs,G,Gs,A,As,B,C,Cs,D,Ds,E,F,Fs,G,Gs,A,As,B,C,\n",
    "       B,As,A,Gs,G,Fs,F,E,Ds,D,Cs,C,B,As,A,Gs,G,Fs,F,E,Ds,D,Cs,C]))\n",
    "three = np.transpose(np.vstack([E,D,C,D,E,E,E,D,D,D,E,G,G,E,D,C,D,E,E,E,D,D,D,E,D,C]))\n",
    "#threeT = [3,1,2,2,2,2,4,2,2,4,2,2,4,3,1,2,2,2,2,4,2,1,1,2,2,6]\n",
    "four = np.transpose(np.vstack([A,B,Cs,A,B,Cs,B,A,G,Fs,G,A,B,G,E,A,B,Cs,A,B,Cs,B,A,G,\n",
    "       Fs,B,G,E,A,A,B,Cs,A,B,Cs,B,A,G,Fs,G,A,B,G,E,A,B,Cs,A,B,Cs,B,A,G,\n",
    "       Fs,B,G,E,A]))\n",
    "five = np.transpose(np.vstack([Gs,As,C,Cs,Ds,F,G,Gs,As,C,Cs,Ds,F,G,Gs,\n",
    "        G,F,Ds,Cs,C,As,Gs,G,F,Ds,Cs,C,As,Gs,\n",
    "        As,C,Cs,Ds,F,G,Gs,As,C,Cs,Ds,F,G,Gs,\n",
    "        G,F,Ds,Cs,C,As,Gs,G,F,Ds,Cs,C,As,Gs]))\n",
    "six = np.transpose(np.vstack([Cs, D, F, As, As, Cs, D, F, Gs, Gs, F, G, Cs, D, F, F, Gs,\n",
    "    C, C, D, F, F, F, Ds, D, C, D, Ds, D, C, As, C, D, C, As, A, As,\n",
    "    Cs, B, A, G, A, C, As, Gs, G, F]))\n",
    "\n",
    "seven = np.transpose(np.vstack([Gs, B, Gs, B, Gs, Gs, B, Gs, B, Gs, Gs, B, Gs, B, Gs, \n",
    "    Cs, Gs, B, Gs, Cs, Gs, Cs, B, Gs, Cs, Cs, Cs, Fs, As, Fs, Cs, As, \n",
    "    Gs, G, Fs, D, Cs, D, Cs, Cs, E, Cs, E, Fs, Cs, E, Cs, Cs, E, Cs, A, Gs, E, Cs]))\n",
    "\n",
    "eight = np.transpose(np.vstack([B, As, B, As, Ds, Fs, F, As, Ds, C, B, As, B, As, Ds, Fs, F, As, C, \n",
    "    Ds, B, As, B, As, Ds, Fs, F, As, Ds, C, B, As, B, As, Ds, Fs, F, As, C, Ds,\n",
    "    As, C, Cs, G, F, Ds, F, G, D, C, Gs, A, As, Gs, G, Ds]))\n",
    "\n",
    "nine = np.transpose(np.vstack([G,E,E,F,D,D,C,D,E,F,G,G,G,G,E,E,E,F,D,D,D,C,E,G,G,E,E,\n",
    "    E,D,D,D,D,D,E,F,E,E,E,E,E,F,G,G,E,E,E,F,D,D,D,C,E,G,G,E,E,E]))\n",
    "ten = np.transpose(np.vstack([G,A,G,F,E,F,G,D,E,F,E,F,G,G,A,G,F,E,F,G,D,G,E,C]))\n",
    "eleven = np.transpose(np.vstack([C,D,E,F,G,A,B,C,B,A,G,F,E,D,C,E,G,C,G,E,C]))\n",
    "twelve = np.transpose(np.vstack([C,C,G,G,A,A,G,F,F,E,E,D,D,C,G,G,F,F,E,E,D,G,G,F,F,E,E,D,C,C,G,G,A,A,G,F,F,E,E,D,D,C]))\n",
    "thirteen = np.transpose(np.vstack([A, Fs, D, Fs, G, A, As, C, D, Ds, Fs, G, D, A, Fs, D, Fs, G, D, Cs,As, A, G, Fs, Fs, D, A, Fs, D, As, A, G, A, As, C, D, Ds, Fs, G, D, A, Fs, D, Fs, G, D, Cs, As, A, G, Fs, Fs, D]))\n",
    "fourteen = np.transpose(np.vstack([C,C,D,C,F,E,C,C,D,C,G,F,C,C,C,A,F,E,D,As,As,A,F,G,F,C,C,D,C,F,E,C,C,D,C,G,F,C,C,C,A,F,E,D,As,As,A,F,G,F]))\n",
    "fifteen = np.transpose(np.vstack([Fs, D, G, A, G, Fs, E, Fs, B, Cs, E, D, E, D, Cs, D, B, Cs, B, A, B,\n",
    "    A, Gs, A, Cs, Cs, B, A, B, A, Gs, A, Cs, B, A, Cs, B, Cs, B, A, Cs, Cs, B, As, Cs,\n",
    "    B, Cs, B, As, Fs]))\n",
    "sixteen = np.transpose(np.vstack([A,B,C,D,E,F,G,A,B,C,D,E,F,G,A,G,F,E,D,C,B,A,G,F,E,D,C,B,\n",
    "    A,B,C,D,E,F,G,A,B,C,D,E,F,G,A,G,F,E,D,C,B,A,G,F,E,D,C,B,A]))\n",
    "seventeen = np.transpose(np.vstack([E,E,D,C,C,D,D,E,D,C,G,G,F,E,E,D,C,D,E,C,E,E,F,G,G,\n",
    "    A,A,G,F,E,E,E,F,G,G,A,A,G,E,E,D,C,C,D,D,E,D,C,G,G,F,E,E,D,C,D,E,C]))\n",
    "eighteen = np.transpose(np.vstack([C,F,E,F,A,C,F,F,E,D,C,F,G,A,As,D,F,G,A,\n",
    "    C,G,C,F,E,F,A,C,A,A,G,F,E,F,A,D,F,E,Ds,D,E,C]))\n",
    "nineteen = np.transpose(np.vstack([B,G,Fs,E,D,A,B,G,Fs,E,D,A,B,G,E,D,C,G,A,D,B,B,C,A,B,G,A,Fs,G,E,Fs,G,A,B]))\n",
    "twenty = np.transpose(np.vstack([C,D,E,F,G,A,B,C,B,A,G,F,E,D,C]))\n",
    "twentyone = np.transpose(np.vstack([A,Cs,E,A,Cs,E,A,E,Cs,A,E,Cs,A,Cs,E,A,Cs,E,A,E,Cs,A,\n",
    "    E,Cs,A,Cs,E,A,Cs,E,A,E,Cs,A,E,Cs,A,Cs,E,A,Cs,E,A,E,Cs,A,E,Cs,A]))\n",
    "\n",
    "twentytwo = np.transpose(np.vstack([E,D,C,G,F,E,E,D,C,G,F,E,G,F,E,D,C,C,A,E,F,Fs,G,C,Ds,E,C,E,D,C,G,F,E,E,D,C,G,F,E,G,F,E,D,C,C,A,E,F,Fs,G,C,Ds,E,C]))\n",
    "\n",
    "twentythree = np.transpose(np.vstack([D,C,A,C,C,D,C,G,E,C,D,C,A,C,B,B,B,B,A,G,E,D,C,G,F,E,E,D,C,G,F,E,G,F,E,D,C,C,A,E,F,Fs,G,C,Ds,E,C]))\n",
    "\n",
    "twentyfour = np.transpose(np.vstack([G,Fs,G,Fs,E,G,Fs,G,Fs,G,Fs,E,Gs,B,Gs,F,E,A,G,A,G,E,A,G,Ds,G,D,E,G,A,B,E,D,G,Fs,G,Fs,E,G,Fs,G,Fs,G,Fs,E,Gs,B,Gs,F,E,A,G,A,G,E,A,G,Ds,G,D,E,G,A,As,A,G]))\n",
    "twentyfive = np.transpose(np.vstack([Ds,C,Ds,C,As,G,As,C,D,Ds,C,Ds,As,Ds,C,E,C,As,G,As,C,D,Ds,As,C,D,G,Fs,G,Fs,E,G,Fs,G,Fs,G,Fs,E,Gs,B,Gs,F,E,A,G,A,G,E,A,G,Ds,G,D,E,G,A,As,A,G]))\n",
    "twentysix = np.transpose(np.vstack([A,D,E,F,E,F,B,A,G,Fs,G,D,Cs,C,B,A,Gs,A,G,G,A,B,E,E,G,G,G,Gs,Gs,Gs,A,A,B,B,B]))\n",
    "twentyseven = np.transpose(np.vstack([As,C,D,As,C,D,As,C,D,F,Ds,D,As,C,Cs,Ds,F,G,Ds,F,G,Ds,F,G,As,Gs,G,Ds,F,Fs,F,G,Gs,A,B,E,G,As,B,E,Ds,C,B,A,G,F,G,Gs,As,Ds,G,As,B,E,Ds,C,As,Gs,G]))\n",
    "twentyeight = np.transpose(np.vstack([G,E,E,D,G,E,E,E,D,G,E,E,D,G,G,E,E,E,D,F,D,D,D,C,E,C,C,C,As,C,G,E,E,D,G,E,E,E,D,G,E,E,D,G,G,E,E,E,D,F,D,D,D,C,E,C,C,C,As,C]))\n",
    "twentynine = np.transpose(np.vstack([F,Fs,Ds,F,Ds,Cs,Ds,Gs,A,Gs,Fs,Gs,Fs,E,Fs,A,As,A,G,A,G,F,G,A,As,C,C,D,E,F,G,Gs,A,As,As,C,D,E,F,Fs,G,E,E,D,G,E,E,E,D,G,E,E,D,G,G,E,E,E,D,A,F,F,F,D,C,E,E,E,D,D]))\n",
    "thirty = np.transpose(np.vstack([Ds,F,G,G,F,Ds,F,G,G,F,As,C,Cs,Cs,C,As,C,Cs,As,G,G,G,F,C,G,G,F,B,G,As,As,G,As,G,G,As,As,C,Ds,Ds,Ds,F,G,G,F,Ds,F,G,G,F,As,C,Cs,Cs,C,As,C,Cs,As,G,G,G,F,C,G,G,F,B,G,As,As,G,As,G,G,As,As,C,Ds,Ds]))\n",
    "thirtyone = np.transpose(np.vstack([Ds,C,Ds,C,Ds,C,Ds,D,As,D,As,D,Ds,C,Ds,C,Ds,C,Ds,As,C,C,C,F,Ds,F,G,G,F,Ds,F,G,G,F,As,C,Cs,Cs,C,As,C,Cs,As,G,G,G,F,C,G,G,F,B,G,As,As,G,As,G,G,As,As,As,C,Ds,Ds]))\n",
    "thirtytwo = np.transpose(np.vstack([G,G,As,G,F,G,G,G,As,G,F,G,G,G,As,G,F,G,G,G,As,G,F,G,D,G,A,As,As,C,As,G,G,A,As,As,F,Gs,Gs,Gs,As,Gs,Fs,F,F,F,Gs,Gs,Cs,Fs,Gs,A,A,A,B,A,Fs,Fs,A,A,A,A,A,A,B,A,Fs,Fs,A,A,D,D,C,D,C,As,D,C,C,As,As,C,C,G,G,G,F,Ds,F,G,As,G,Ds,F,Fs]))\n",
    "thirtythree = np.transpose(np.vstack([A,D,C,D,C,D,E,F,G,A,As,C,D,G,F,G,F,A,As,A,D,C,D,C,D,E,F,G,A,As,C,D,G,F,G,F,A,C,D,D,D,C,As,F,G,Gs,Gs,Gs,Gs,Gs,Fs,Cs,Ds,E,E,E,E,E,D,Fs,A,Cs,Cs,As,A,D,C,D,C,D,E,F,G,A,As,C,D,E,D,A,G,F]))\n",
    "thirtyfour = np.transpose(np.vstack([A,Gs,As,C,C,Ds,D,As,G,C,Ds,C,As,G,F,As,F,G,F,Gs,As,C,C,Ds,F,D,C,C,Ds,C,As,G,F,As,F,G,C,G,Ds,F,G,Gs,As,C,Gs,F,G,Gs,As,C,D,E,D,As,A,A,A,Gs,As,C,C,Ds,D,As,G,C,Ds,C,As,G,F,As,F,G,F,Gs,As,C,C,Ds,F,D,C,C,Ds,C,As,G,F,As,F,G]))\n",
    "thirtyfive = np.transpose(np.vstack([D,G,A,A,B,D,G,A,As,C,F,G,G,A,C,F,G,Gs,D,Ds,F,G,G,G,G,G,G,A,G,A,As,A,G,A,B,A,B,C,D,D,D,D,D,D,G,A,A,B,D,G,A,As,C,F,G,G,A,C,F,G,Gs,D,Ds,F,G,G,G,G,G,G,A,G,A,B,A,B,C,D,D,D,D,D,D,G,A,G]))\n",
    "thirtysix = np.transpose(np.vstack([A,As,A,As,A,As,A,As,A,Gs,A,C,B,As,A,A,G,G,A,G,A,G,A,G,A,G,Fs,G,As,A,Gs,G,G,F,F,G,F,G,F,G,F,G,A,F,D,E,D,E,F,F,F,G,F,G,E,F,E,F,E,Ds,E,G,Fs,F,E,E,D]))\n",
    "thirtyseven = np.transpose(np.vstack([E,F,G,B,A,G,E,D,E,G,E,D,E,G,E,D,E,C,E,G,A,B,C,C,C,D,B,A,A,G,E,Fs,G,G,G,A,Fs,G,E,F,G,B,A,G,E,D,E,G,E,D,E,G,E,D,E,C,E,G,A,B,C,C,C,D,B,As,As,A,G,F,E,E,D,C,B,C]))\n",
    "thirtyeight = np.transpose(np.vstack([Ds,F,G,As,C,As,C,As,Cs,C,As,Ds,F,G,As,C,As,Cs,C,As,Ds,F,F,D,C,A,F,D,C,F,C,D,F,Cs,Ds,Cs,Fs,F,D,C,A,F,D,C,F,A,A,F,C,D,F,F,D,C,A,F,D,C,F,C,D,F,Cs,Ds,Cs,Fs,F,D,C,A,F,D,C,F,A,A,F,C,D,F,C,G,Cs,C,C,D,F,Cs,Gs,Cs,D,Ds,E,F,D,C,A,F,D,C,F,C,D,F,Cs,Ds,Cs,Fs,F,D,C,A,F,D,C,F,A,A,F,C,D,F]))\n",
    "thirtynine = np.transpose(np.vstack([C,Ds,G,As,A,Ds,F,G,G,G,B,D,F,D,Ds,C,Ds,F,G,Ds,C,Ds,Ds,As,G,F,D,Ds,F,G,Gs,As,As,B,Gs,D,As,C,G,C,D,Ds,D,C,As,C,D,D,G,A,As,A,G,Gs]))\n",
    "forty = np.transpose(np.vstack([As,G,F,D,Ds,F,G,Gs,As,As,B,Gs,D,As,C,G,C,D,Ds,F,As,C,Cs,C,F,C,Fs,D,G,Ds,C,D,Ds,D,C,As,C,D,Cs,C,Ds,F,G,C,Ds,F,Fs,B,As,F,G,Gs,Gs,As,Gs,G,F,G,G,C,D,Ds,Ds,F,Ds,D,C,D,G,As,D,C,As,G,F,D,Ds,D,G,Gs,As,As,B,Gs,D,B,C,G,C,D,Ds,F,As,C,Cs,C,Ds,F,G,C,Ds,F,Fs,D,Ds]))\n",
    "fortyone = np.transpose(np.vstack([C,B,B,A,B,C,B,A,B,B,As,E,A,E,F,G,D,E,F,F,E,F,E,F,E,E,E,E,F,E,G,F,E,D,E,D,F,E,C,C,D,E,C,D,E,A,B,G,A,B,C,B,B,A,B,C,B,A,B,B,As,E,A,E,F,G,D,E,F,F,E,F,E,F,E,G,F,E,B,Gs,A,D,As,C,A,B,A,B,C]))\n"
   ]
  },
  {
   "cell_type": "markdown",
   "metadata": {},
   "source": [
    "# Subsequence DTW"
   ]
  },
  {
   "cell_type": "markdown",
   "metadata": {},
   "source": [
    "DTW overall process\n",
    "- compute the cost matrix based on cosine distance\n",
    "- use dynamic programming to find our cumulative cost matrix and our backtrace matrix\n",
    "- construct the optima"
   ]
  },
  {
   "cell_type": "code",
   "execution_count": 13,
   "metadata": {},
   "outputs": [],
   "source": [
    "def computeCostMatrix_cosdist(Fquery,Fref):\n",
    "    '''\n",
    "    Computes the cosine distance cost matrix.\n",
    "    \n",
    "    Arguments:\n",
    "    Fquery -- the query chroma feature matrix of dimension (12, # query frames), this feature\n",
    "              matrix is assumed to be L2 normalized\n",
    "    Fref -- the reference feature matrix, of dimension (12, # reference frames), this feature\n",
    "            matrix is assumed to be L2 normalized\n",
    "    \n",
    "    Returns:\n",
    "    C -- cost matrix whose (i,j)th element specifies the cosine distance between the i-th query frame\n",
    "         and the j-th reference frame\n",
    "    '''\n",
    "    product = np.dot(np.transpose(Fquery), Fref)\n",
    "    ones = np.ones_like(product)\n",
    "    #product = scipy.spatial.distance.cdist(np.transpose(Fquery), np.transpose(Fref), metric='cosine')\n",
    "    C = ones - product\n",
    "\n",
    "    return C"
   ]
  },
  {
   "cell_type": "code",
   "execution_count": 14,
   "metadata": {},
   "outputs": [],
   "source": [
    "def subsequenceDTW(C, steps, weights):\n",
    "    '''\n",
    "    Find the optimal subsequence path through cost matrix C.\n",
    "    \n",
    "    Arguments:\n",
    "    C -- cost matrix of dimension (# query frames, # reference frames)\n",
    "    steps -- a numpy matrix specifying the allowable transitions.  It should be of\n",
    "            dimension (L, 2), where each row specifies (row step, col step)\n",
    "    weights -- a vector of size L specifying the multiplicative weights associated \n",
    "                with each of the allowable transitions\n",
    "                \n",
    "    Returns:\n",
    "    optcost -- the optimal subsequence path score\n",
    "    path -- a matrix with 2 columns specifying the optimal subsequence path.  Each row \n",
    "            specifies the (row, col) coordinate.\n",
    "    '''\n",
    "    D = np.zeros(C.shape)\n",
    "    x, y = D.shape\n",
    "    B = np.zeros(C.shape)\n",
    "    #Initialize the first row to be the same as the Cost matrix\n",
    "    for i in range(0, y):\n",
    "        D[0,i] = C[0,i]\n",
    "    #Loop through the rest of the entries in D, filling them with the minimum cost possible with the provided steps and weights \n",
    "    for j in range(0, y):\n",
    "        for i in range(1, x):\n",
    "            minimum = math.inf\n",
    "            B[i,j] = -1\n",
    "            for idx, step in enumerate(steps):\n",
    "                if i-step[0]>-1 and j-step[1]>-1:\n",
    "                    if (weights[idx] *C[i,j] + D[i-step[0], j-step[1]]) < minimum:\n",
    "                        minimum = weights[idx] *C[i,j] + D[i-step[0], j-step[1]]\n",
    "                        B[i,j] = idx\n",
    "            D[i, j] = minimum\n",
    "    #Backtrace and find the optimal path\n",
    "    path = backtrace(D,B,steps)\n",
    "    path = np.array(path)\n",
    "    #The minimum cost value in the last row is our optimal cost\n",
    "    endindex =  np.where(D[-1][:] == np.amin(D[-1][:]))[0][0]\n",
    "    optcost = D[-1][endindex]\n",
    "    return optcost, path\n"
   ]
  },
  {
   "cell_type": "code",
   "execution_count": 15,
   "metadata": {},
   "outputs": [],
   "source": [
    "def backtrace(D, B, steps):\n",
    "    '''\n",
    "    Backtraces through the cumulative cost matrix D.\n",
    "    \n",
    "    Arguments:\n",
    "    D -- cumulative cost matrix\n",
    "    B -- backtrace matrix\n",
    "    steps -- a numpy matrix specifying the allowable transitions.  It should be of\n",
    "            dimension (L, 2), where each row specifies (row step, col step)\n",
    "    \n",
    "    Returns:\n",
    "    path -- a python list of (row, col) coordinates for the optimal path.\n",
    "    '''\n",
    "    \n",
    "    #Follow the steps back to row zero\n",
    "    path = []\n",
    "    endindex =  np.where(D[-1][:] == np.amin(D[-1][:]))[0][0]\n",
    "    point = [D.shape[0]-1, endindex]\n",
    "    path.append(point)\n",
    "    #iterate through all transitions\n",
    "    while point[0]>0:\n",
    "        stepNum = B[point[0],point[1]]\n",
    "        transition = steps[int(stepNum)]\n",
    "        point = [int(point[0]-transition[0]),int(point[1]-transition[1])]\n",
    "        path.append(point)\n",
    "        \n",
    "    \n",
    "    return path"
   ]
  },
  {
   "cell_type": "code",
   "execution_count": 56,
   "metadata": {},
   "outputs": [
    {
     "data": {
      "image/png": "[encoded data removed]",
      "text/plain": [
       "<Figure size 720x288 with 2 Axes>"
      ]
     },
     "metadata": {},
     "output_type": "display_data"
    }
   ],
   "source": [
    "fig, (ax1, ax2) = plt.subplots(1, 2)\n",
    "ax2.imshow(Fquery[:,:51], cmap = 'gray',aspect = 'auto',origin = 'lower')\n",
    "ax1.imshow(two[:,:12], cmap= 'gray',aspect = 'auto', origin = 'lower')\n",
    "ax1.set_xticks([])\n",
    "ax1.set_yticks([])\n",
    "ax2.set_xticks([])\n",
    "ax2.set_yticks([])\n",
    "ax1.set_title('Binary Chroma Feature Matrix')\n",
    "ax2.set_title('Chroma Features from Audio')\n",
    "fig.set_size_inches(10,4)\n",
    "plt.show()"
   ]
  },
  {
   "cell_type": "code",
   "execution_count": 30,
   "metadata": {
    "scrolled": true
   },
   "outputs": [],
   "source": [
    "steps = np.array([1, 0, 1, 1]).reshape((2,2))\n",
    "#steps = np.array([0, 1, 1, 1, 1, 2, 2, 1]).reshape((4,2)) # reversed axes\n",
    "weights = [1.01,1]\n",
    "Fquery = extractChromaFeatures('Recordings/2.mp3')\n",
    "Fref = two\n",
    "Cost = computeCostMatrix_cosdist(Fquery,Fref)\n",
    "#D, path = lb.sequence.dtw(X = None, Y = None, C = Cost, metric = 'cosine',step_sizes_sigma=steps, weights_mul=weights,  subseq=True)\n",
    "#optcost, path = subsequenceDTW(Cost, steps, weights)"
   ]
  },
  {
   "cell_type": "markdown",
   "metadata": {},
   "source": [
    "# Important notes\n",
    "So far, this just uses the built in dtw. I put my own dtw code above in case you want to use that instead. To plot my dtw patch, swap point[1] and point[0] in the plotter. I think we should just use the built in one unless we want to add functionality that isn't possible with the built in one for runtime sake"
   ]
  },
  {
   "cell_type": "code",
   "execution_count": 17,
   "metadata": {
    "scrolled": false
   },
   "outputs": [
    {
     "ename": "NameError",
     "evalue": "name 'path' is not defined",
     "output_type": "error",
     "traceback": [
      "\u001b[1;31m---------------------------------------------------------------------------\u001b[0m",
      "\u001b[1;31mNameError\u001b[0m                                 Traceback (most recent call last)",
      "\u001b[1;32m<ipython-input-17-a2aa1469c213>\u001b[0m in \u001b[0;36m<module>\u001b[1;34m\u001b[0m\n\u001b[0;32m      4\u001b[0m \u001b[0mplt\u001b[0m\u001b[1;33m.\u001b[0m\u001b[0mfigure\u001b[0m\u001b[1;33m(\u001b[0m\u001b[0mfigsize\u001b[0m\u001b[1;33m=\u001b[0m\u001b[1;33m(\u001b[0m\u001b[1;36m20\u001b[0m\u001b[1;33m,\u001b[0m\u001b[1;36m15\u001b[0m\u001b[1;33m)\u001b[0m\u001b[1;33m)\u001b[0m\u001b[1;33m\u001b[0m\u001b[1;33m\u001b[0m\u001b[0m\n\u001b[0;32m      5\u001b[0m \u001b[0mplot1\u001b[0m \u001b[1;33m=\u001b[0m \u001b[0mplt\u001b[0m\u001b[1;33m.\u001b[0m\u001b[0mimshow\u001b[0m\u001b[1;33m(\u001b[0m\u001b[0mCost\u001b[0m\u001b[1;33m.\u001b[0m\u001b[0mT\u001b[0m\u001b[1;33m,\u001b[0m \u001b[0morigin\u001b[0m\u001b[1;33m=\u001b[0m\u001b[1;34m'lower'\u001b[0m\u001b[1;33m,\u001b[0m \u001b[0mcmap\u001b[0m\u001b[1;33m=\u001b[0m\u001b[1;34m'Reds'\u001b[0m\u001b[1;33m,\u001b[0m \u001b[0minterpolation\u001b[0m\u001b[1;33m=\u001b[0m\u001b[1;34m'nearest'\u001b[0m\u001b[1;33m,\u001b[0m \u001b[0maspect\u001b[0m \u001b[1;33m=\u001b[0m \u001b[1;34m'auto'\u001b[0m\u001b[1;33m)\u001b[0m\u001b[1;33m\u001b[0m\u001b[1;33m\u001b[0m\u001b[0m\n\u001b[1;32m----> 6\u001b[1;33m \u001b[0mpath_x\u001b[0m \u001b[1;33m=\u001b[0m \u001b[1;33m[\u001b[0m\u001b[0mpoint\u001b[0m\u001b[1;33m[\u001b[0m\u001b[1;36m1\u001b[0m\u001b[1;33m]\u001b[0m \u001b[1;32mfor\u001b[0m \u001b[0mpoint\u001b[0m \u001b[1;32min\u001b[0m \u001b[0mpath\u001b[0m\u001b[1;33m]\u001b[0m\u001b[1;33m\u001b[0m\u001b[1;33m\u001b[0m\u001b[0m\n\u001b[0m\u001b[0;32m      7\u001b[0m \u001b[0mpath_y\u001b[0m \u001b[1;33m=\u001b[0m \u001b[1;33m[\u001b[0m\u001b[0mpoint\u001b[0m\u001b[1;33m[\u001b[0m\u001b[1;36m0\u001b[0m\u001b[1;33m]\u001b[0m \u001b[1;32mfor\u001b[0m \u001b[0mpoint\u001b[0m \u001b[1;32min\u001b[0m \u001b[0mpath\u001b[0m\u001b[1;33m]\u001b[0m\u001b[1;33m\u001b[0m\u001b[1;33m\u001b[0m\u001b[0m\n\u001b[0;32m      8\u001b[0m \u001b[0mplot2\u001b[0m \u001b[1;33m=\u001b[0m \u001b[0mplt\u001b[0m\u001b[1;33m.\u001b[0m\u001b[0mplot\u001b[0m\u001b[1;33m(\u001b[0m\u001b[0mpath_x\u001b[0m\u001b[1;33m,\u001b[0m \u001b[0mpath_y\u001b[0m\u001b[1;33m,\u001b[0m \u001b[1;34m'B'\u001b[0m\u001b[1;33m,\u001b[0m\u001b[0mlinewidth\u001b[0m\u001b[1;33m=\u001b[0m\u001b[1;36m6\u001b[0m\u001b[1;33m)\u001b[0m\u001b[1;33m\u001b[0m\u001b[1;33m\u001b[0m\u001b[0m\n",
      "\u001b[1;31mNameError\u001b[0m: name 'path' is not defined"
     ]
    },
    {
     "data": {
      "image/png": "[encoded data removed]",
      "text/plain": [
       "<Figure size 432x288 with 1 Axes>"
      ]
     },
     "metadata": {
      "needs_background": "light"
     },
     "output_type": "display_data"
    },
    {
     "data": {
      "image/png": "[encoded data removed]",
      "text/plain": [
       "<Figure size 1440x1080 with 1 Axes>"
      ]
     },
     "metadata": {
      "needs_background": "light"
     },
     "output_type": "display_data"
    }
   ],
   "source": [
    "### START CODE BLOCK ###\n",
    "import matplotlib.cm as cm\n",
    "fig, ax = plt.subplots()\n",
    "plt.figure(figsize=(20,15))\n",
    "plot1 = plt.imshow(Cost.T, origin='lower', cmap='Reds', interpolation='nearest', aspect = 'auto')\n",
    "path_x = [point[1] for point in path]\n",
    "path_y = [point[0] for point in path]\n",
    "plot2 = plt.plot(path_x, path_y, 'B',linewidth=6)\n",
    "xlim = ax.set_xlim((-0.5, Cost.shape[0]+0.5))\n",
    "ylim = ax.set_ylim((-0.5, Cost.shape[1]+0.5))\n",
    "plt.colorbar()\n",
    "plt.xlabel(\"Rows(Query points)\")\n",
    "plt.ylabel(\"Cols(Reference points)\")\n",
    "plt.title(\"Optimal Path\")"
   ]
  },
  {
   "cell_type": "code",
   "execution_count": 96,
   "metadata": {},
   "outputs": [
    {
     "name": "stdout",
     "output_type": "stream",
     "text": [
      "[[ 56 177]\n",
      " [ 54 176]\n",
      " [ 52 175]\n",
      " [ 50 174]\n",
      " [ 48 173]\n",
      " [ 46 172]\n",
      " [ 44 171]\n",
      " [ 42 170]\n",
      " [ 40 169]\n",
      " [ 38 168]\n",
      " [ 36 167]\n",
      " [ 34 166]\n",
      " [ 32 165]\n",
      " [ 30 164]\n",
      " [ 28 163]\n",
      " [ 26 162]\n",
      " [ 24 161]\n",
      " [ 22 160]\n",
      " [ 20 159]\n",
      " [ 18 158]\n",
      " [ 16 157]\n",
      " [ 14 156]\n",
      " [ 12 155]\n",
      " [ 10 154]\n",
      " [  8 153]\n",
      " [  6 152]\n",
      " [  4 151]\n",
      " [  2 150]\n",
      " [  0 149]]\n"
     ]
    }
   ],
   "source": [
    "endCol = path[1][0]"
   ]
  },
  {
   "cell_type": "code",
   "execution_count": 45,
   "metadata": {},
   "outputs": [
    {
     "name": "stdout",
     "output_type": "stream",
     "text": [
      "20 21\n"
     ]
    }
   ],
   "source": [
    "print(endCol, eleven.shape[1])"
   ]
  },
  {
   "cell_type": "code",
   "execution_count": 82,
   "metadata": {},
   "outputs": [
    {
     "data": {
      "text/plain": [
       "array([[0, 1],\n",
       "       [2, 3],\n",
       "       [4, 5],\n",
       "       [6, 7]])"
      ]
     },
     "execution_count": 82,
     "metadata": {},
     "output_type": "execute_result"
    }
   ],
   "source": [
    "np.arange(8).reshape(4,2)"
   ]
  },
  {
   "cell_type": "code",
   "execution_count": null,
   "metadata": {},
   "outputs": [],
   "source": [
    "frame = 10\n",
    "for i in range(len(Fquery[:,frame])):\n",
    "    print(Fquery[i,frame])"
   ]
  },
  {
   "cell_type": "markdown",
   "metadata": {},
   "source": [
    "For all of the testcases I ran, the endpoint doesnt quite match up. We have work to do lol"
   ]
  }
 ],
 "metadata": {
  "kernelspec": {
   "display_name": "Python 3",
   "language": "python",
   "name": "python3"
  },
  "language_info": {
   "codemirror_mode": {
    "name": "ipython",
    "version": 3
   },
   "file_extension": ".py",
   "mimetype": "text/x-python",
   "name": "python",
   "nbconvert_exporter": "python",
   "pygments_lexer": "ipython3",
   "version": "3.7.7"
  }
 },
 "nbformat": 4,
 "nbformat_minor": 2
}
