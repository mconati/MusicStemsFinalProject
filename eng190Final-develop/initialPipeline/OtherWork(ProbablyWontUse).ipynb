{
 "cells": [
  {
   "cell_type": "code",
   "execution_count": null,
   "metadata": {},
   "outputs": [],
   "source": [
    "def calcLogFreqSpec(S, f_if, fmin = 32.703, R = 100, numOctaves = 8, winsize = 2048):\n",
    "    '''\n",
    "    Calculate the log frequency spectrogram for an input STFT\n",
    "    \n",
    "    Arguments:\n",
    "    S -- input STFT\n",
    "    f_if -- instantaneous frequency estimations for S\n",
    "    optional--minimum frequency fmin, cents per bin R, number of octaves of STFT\n",
    "    \n",
    "    Returns:\n",
    "    logfreq -- log frequency matrix\n",
    "    '''\n",
    "    numBins = int((int(winsize/2) + 1) * 2)\n",
    "    bin_start = np.round(1200/R * np.log2(np.clip(fmin, 1*10**-9, np.inf)/440) + 69*100/R).astype(int)\n",
    "    bin_end = (bin_start + numOctaves*1200/R).astype(int)\n",
    "    bins = np.clip(np.round(1200/R * np.log2(np.clip(f_if, 1*10**-9, np.inf)/440) + 69*100/R), 0, bin_end+1).astype(int).flatten()\n",
    "    logfreq = np.zeros((S.shape[0], S.shape[1]-1))\n",
    "    colMat = np.matlib.repmat(np.arange(S.shape[1]-1), S.shape[0], 1).flatten()\n",
    "    S = S[:, :-1].flatten()\n",
    "    for i in range(0, S.shape[0]):\n",
    "        logfreq[bins[i]][colMat[i]] += abs(S[i])**2\n",
    "    logfreq = 2*logfreq[int(bin_start):int(bin_start+numOctaves*12*100/R), :]\n",
    "    return logfreq"
   ]
  },
  {
   "cell_type": "code",
   "execution_count": null,
   "metadata": {},
   "outputs": [],
   "source": [
    "def principalArgF(theta):\n",
    "    '''\n",
    "    Calculate principle argument function of an input angle theta\n",
    "    \n",
    "    Arguments:\n",
    "    theta -- input angle\n",
    "    \n",
    "    Returns:\n",
    "    theta but between -pi and pi\n",
    "    '''\n",
    "    return  np.mod((theta+np.pi), 2*np.pi) - np.pi"
   ]
  },
  {
   "cell_type": "code",
   "execution_count": null,
   "metadata": {},
   "outputs": [],
   "source": [
    "def estimateIF(S, sr = 22050, hop = 512):\n",
    "    '''\n",
    "    Calculate the instantaneous frequency estimation for an STFT\n",
    "    \n",
    "    Arguments:\n",
    "    S -- STFT\n",
    "    \n",
    "    Returns:\n",
    "    Inst -- instantaneous frequency estimation\n",
    "    '''\n",
    "    phases = np.angle(S[:, 1:]) - np.angle(S[:, 0:-1])\n",
    "    w = (np.broadcast_to(np.pi*sr/S.shape[0]*np.arange(S.shape[0]), (S.shape[1]-1, S.shape[0])).transpose())\n",
    "    Inst = (w + principalArgF((phases - w*hop))/hop)/(2*np.pi)\n",
    "    return Inst"
   ]
  },
  {
   "cell_type": "code",
   "execution_count": null,
   "metadata": {},
   "outputs": [],
   "source": []
  }
 ],
 "metadata": {
  "kernelspec": {
   "display_name": "Python 3",
   "language": "python",
   "name": "python3"
  },
  "language_info": {
   "codemirror_mode": {
    "name": "ipython",
    "version": 3
   },
   "file_extension": ".py",
   "mimetype": "text/x-python",
   "name": "python",
   "nbconvert_exporter": "python",
   "pygments_lexer": "ipython3",
   "version": "3.7.6"
  }
 },
 "nbformat": 4,
 "nbformat_minor": 2
}
