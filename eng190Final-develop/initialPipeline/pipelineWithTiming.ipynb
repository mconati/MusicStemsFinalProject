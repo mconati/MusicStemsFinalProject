{
 "cells": [
  {
   "cell_type": "markdown",
   "metadata": {},
   "source": [
    "# Audio Chroma Extraction"
   ]
  },
  {
   "cell_type": "code",
   "execution_count": 1,
   "execution_count": 15,
   "metadata": {},
   "outputs": [],
   "source": [
    "%matplotlib inline"
   ]
  },
  {
   "cell_type": "code",
   "execution_count": 2,
   "execution_count": 16,
   "metadata": {},
   "outputs": [],
   "source": [
    "import numpy as np\n",
    "import librosa as lb\n",
    "import matplotlib.pyplot as plt\n",
    "import scipy.signal as ss\n",
    "import glob\n",
    "import os.path\n",
    "import subprocess\n",
    "import pickle\n",
    "import IPython.display as ipd\n",
    "import warnings\n",
    "import math\n",
    "import numpy.matlib\n",
    "#import simpy\n",
    "import timeit\n",
    "import time\n",
    "from scipy.stats import norm"
   ]
  },
  {
   "cell_type": "code",
   "execution_count": 3,
   "execution_count": 17,
   "metadata": {},
   "outputs": [],
   "source": [
    "warnings.filterwarnings(action='ignore') # to suppress warning messages"
   ]
  },
  {
   "cell_type": "markdown",
   "metadata": {},
   "source": [
    "# Timing for different window sizes\n",
    "-I implemented another argument(window) for dtw that looks at the last window frames of audio\n",
    "- this takes like 20 min to run with recording 30"
   ]
  },
  {
   "cell_type": "code",
   "execution_count": 25,
   "metadata": {},
   "outputs": [
    {
     "ename": "TypeError",
     "evalue": "subsequenceDTW() takes 4 positional arguments but 5 were given",
     "output_type": "error",
     "traceback": [
      "\u001b[1;31m---------------------------------------------------------------------------\u001b[0m",
      "\u001b[1;31mTypeError\u001b[0m                                 Traceback (most recent call last)",
      "\u001b[1;32m<ipython-input-25-be85b2ff9237>\u001b[0m in \u001b[0;36m<module>\u001b[1;34m\u001b[0m\n\u001b[0;32m      7\u001b[0m \u001b[1;32mfor\u001b[0m \u001b[0mwindow\u001b[0m \u001b[1;32min\u001b[0m \u001b[0mrange\u001b[0m\u001b[1;33m(\u001b[0m\u001b[1;36m100\u001b[0m\u001b[1;33m,\u001b[0m \u001b[0mFquery\u001b[0m\u001b[1;33m.\u001b[0m\u001b[0mshape\u001b[0m\u001b[1;33m[\u001b[0m\u001b[1;36m1\u001b[0m\u001b[1;33m]\u001b[0m\u001b[1;33m,\u001b[0m \u001b[1;36m20\u001b[0m\u001b[1;33m)\u001b[0m\u001b[1;33m:\u001b[0m\u001b[1;33m\u001b[0m\u001b[1;33m\u001b[0m\u001b[0m\n\u001b[0;32m      8\u001b[0m     \u001b[0mtimeStart\u001b[0m \u001b[1;33m=\u001b[0m \u001b[0mtime\u001b[0m\u001b[1;33m.\u001b[0m\u001b[0mperf_counter\u001b[0m\u001b[1;33m(\u001b[0m\u001b[1;33m)\u001b[0m\u001b[1;33m\u001b[0m\u001b[1;33m\u001b[0m\u001b[0m\n\u001b[1;32m----> 9\u001b[1;33m     \u001b[0moptcost\u001b[0m\u001b[1;33m,\u001b[0m \u001b[0mpath\u001b[0m\u001b[1;33m,\u001b[0m \u001b[0mC\u001b[0m \u001b[1;33m=\u001b[0m \u001b[0msubsequenceDTW\u001b[0m\u001b[1;33m(\u001b[0m\u001b[0mFquery\u001b[0m\u001b[1;33m,\u001b[0m \u001b[0mFref\u001b[0m\u001b[1;33m,\u001b[0m \u001b[0msteps\u001b[0m\u001b[1;33m,\u001b[0m \u001b[0mweights\u001b[0m\u001b[1;33m,\u001b[0m \u001b[0mwindow\u001b[0m\u001b[1;33m)\u001b[0m\u001b[1;33m\u001b[0m\u001b[1;33m\u001b[0m\u001b[0m\n\u001b[0m\u001b[0;32m     10\u001b[0m     \u001b[0mtimeEnd\u001b[0m \u001b[1;33m=\u001b[0m \u001b[0mtime\u001b[0m\u001b[1;33m.\u001b[0m\u001b[0mperf_counter\u001b[0m\u001b[1;33m(\u001b[0m\u001b[1;33m)\u001b[0m\u001b[1;33m\u001b[0m\u001b[1;33m\u001b[0m\u001b[0m\n\u001b[0;32m     11\u001b[0m     \u001b[0melapsed_time\u001b[0m \u001b[1;33m=\u001b[0m \u001b[0mtimeEnd\u001b[0m\u001b[1;33m-\u001b[0m\u001b[0mtimeStart\u001b[0m\u001b[1;33m\u001b[0m\u001b[1;33m\u001b[0m\u001b[0m\n",
      "\u001b[1;31mTypeError\u001b[0m: subsequenceDTW() takes 4 positional arguments but 5 were given"
     ]
    }
   ],
   "source": [
    "times = []\n",
    "windows = []\n",
    "steps = np.array([1, 0, 1, 1]).reshape((2,2))\n",
    "weights = [1.01,1]\n",
    "Fquery = extractChromaFeatures('Recordings/30.mp3')\n",
    "Fref = thirty\n",
    "for window in range(100, Fquery.shape[1], 20):\n",
    "    timeStart = time.perf_counter()\n",
    "    optcost, path, C = subsequenceDTW(Fquery, Fref, steps, weights, window)\n",
    "    timeEnd = time.perf_counter()\n",
    "    elapsed_time = timeEnd-timeStart\n",
    "    windows.append(window)\n",
    "    times.append(elapsed_time)\n",
    "plt.plot(windows,times)\n",
    "plt.xlabel('window length')\n",
    "plt.ylabel('runtime(s)')"
   ]
  },
  {
   "cell_type": "markdown",
   "metadata": {},
   "source": [
    "# Trying with different number of steps:\n"
   ]
  },
  {
   "cell_type": "code",
   "execution_count": null,
   "metadata": {
    "scrolled": true
   },
   "outputs": [],
   "source": [
    "times = []\n",
    "windows = []\n",
    "steps = np.array([1, 0, 1, 1,1,2,2,2]).reshape((4,2))\n",
    "weights = [1.01,1,1,1]\n",
    "Fquery = extractChromaFeatures('Recordings/30.mp3')\n",
    "Fref = thirty\n",
    "for window in range(100, Fquery.shape[1], 20):\n",
    "    timeStart = time.perf_counter()\n",
    "    optcost, path, C = subsequenceDTW(Fquery, Fref, steps, weights, window)\n",
    "    timeEnd = time.perf_counter()\n",
    "    elapsed_time = timeEnd-timeStart\n",
    "    windows.append(window)\n",
    "    times.append(elapsed_time)\n",
    "plt.plot(windows,times)\n",
    "plt.xlabel('window length')\n",
    "plt.ylabel('runtime(s)')"
   ]
  },
  {
   "cell_type": "markdown",
   "metadata": {},
   "source": [
    "# Variance of the Runtimes:\n"
   ]
  },
  {
   "cell_type": "code",
   "execution_count": 26,
   "execution_count": 36,
   "metadata": {},
   "outputs": [
    {
     "ename": "TypeError",
     "evalue": "subsequenceDTW() takes 4 positional arguments but 5 were given",
     "output_type": "error",
     "traceback": [
      "\u001b[1;31m---------------------------------------------------------------------------\u001b[0m",
      "\u001b[1;31mTypeError\u001b[0m                                 Traceback (most recent call last)",
      "\u001b[1;32m<ipython-input-26-ab4dbca33578>\u001b[0m in \u001b[0;36m<module>\u001b[1;34m\u001b[0m\n\u001b[0;32m     10\u001b[0m \u001b[1;32mfor\u001b[0m \u001b[0mi\u001b[0m \u001b[1;32min\u001b[0m \u001b[0mrange\u001b[0m\u001b[1;33m(\u001b[0m\u001b[1;36m0\u001b[0m\u001b[1;33m,\u001b[0m \u001b[1;36m400\u001b[0m\u001b[1;33m,\u001b[0m \u001b[1;36m1\u001b[0m\u001b[1;33m)\u001b[0m\u001b[1;33m:\u001b[0m\u001b[1;33m\u001b[0m\u001b[1;33m\u001b[0m\u001b[0m\n\u001b[0;32m     11\u001b[0m     \u001b[0mtimeStart\u001b[0m \u001b[1;33m=\u001b[0m \u001b[0mtime\u001b[0m\u001b[1;33m.\u001b[0m\u001b[0mperf_counter\u001b[0m\u001b[1;33m(\u001b[0m\u001b[1;33m)\u001b[0m\u001b[1;33m\u001b[0m\u001b[1;33m\u001b[0m\u001b[0m\n\u001b[1;32m---> 12\u001b[1;33m     \u001b[0moptcost\u001b[0m\u001b[1;33m,\u001b[0m \u001b[0mpath\u001b[0m\u001b[1;33m,\u001b[0m \u001b[0mC\u001b[0m \u001b[1;33m=\u001b[0m \u001b[0msubsequenceDTW\u001b[0m\u001b[1;33m(\u001b[0m\u001b[0mFquery\u001b[0m\u001b[1;33m,\u001b[0m \u001b[0mFref\u001b[0m\u001b[1;33m,\u001b[0m \u001b[0msteps\u001b[0m\u001b[1;33m,\u001b[0m \u001b[0mweights\u001b[0m\u001b[1;33m,\u001b[0m \u001b[0mwindow\u001b[0m\u001b[1;33m)\u001b[0m\u001b[1;33m\u001b[0m\u001b[1;33m\u001b[0m\u001b[0m\n\u001b[0m\u001b[0;32m     13\u001b[0m     \u001b[0mtimeEnd\u001b[0m \u001b[1;33m=\u001b[0m \u001b[0mtime\u001b[0m\u001b[1;33m.\u001b[0m\u001b[0mperf_counter\u001b[0m\u001b[1;33m(\u001b[0m\u001b[1;33m)\u001b[0m\u001b[1;33m\u001b[0m\u001b[1;33m\u001b[0m\u001b[0m\n\u001b[0;32m     14\u001b[0m     \u001b[0melapsed_time\u001b[0m \u001b[1;33m=\u001b[0m \u001b[0mtimeEnd\u001b[0m\u001b[1;33m-\u001b[0m\u001b[0mtimeStart\u001b[0m\u001b[1;33m\u001b[0m\u001b[1;33m\u001b[0m\u001b[0m\n",
      "\u001b[1;31mTypeError\u001b[0m: subsequenceDTW() takes 4 positional arguments but 5 were given"
     ]
    }
   ],
   "source": [
    "times = []\n",
    "steps = np.array([1, 0, 1, 1]).reshape((2,2))\n",
    "weights = [1.01,1]\n",
    "chroma_start = time.perf_counter()\n",
    "Fquery = extractChromaFeatures('Recordings/9.mp3')\n",
    "chroma_end = time.perf_counter()\n",
    "chroma_time = chroma_end - chroma_start\n",
    "Fref = nine\n",
    "window = Fquery.shape[1]\n",
    "for i in range(0, 400, 1):\n",
    "    timeStart = time.perf_counter()\n",
    "    optcost, path, C = subsequenceDTW(Fquery, Fref, steps, weights, window)\n",
    "    timeEnd = time.perf_counter()\n",
    "    elapsed_time = timeEnd-timeStart\n",
    "    times.append(elapsed_time)\n",
    "mean, std = norm.fit(times)"
   ]
  },
  {
   "cell_type": "code",
   "execution_count": null,
   "metadata": {},
   "outputs": [],
   "execution_count": 37,
   "metadata": {},
   "outputs": [
    {
     "data": {
      "image/png": "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\n",
      "text/plain": [
       "<Figure size 432x288 with 1 Axes>"
      ]
     },
     "metadata": {
      "needs_background": "light"
     },
     "output_type": "display_data"
    },
    {
     "name": "stdout",
     "output_type": "stream",
     "text": [
      "Standard deviation of runtimes is:  0.019294297411806004  seconds\n"
     ]
    }
   ],
   "source": [
    "plt.hist(times, bins=30, normed=True)\n",
    "xmin, xmax = plt.xlim()\n",
    "x = np.linspace(xmin, xmax, 100)\n",
    "y = norm.pdf(x, mean, std)\n",
    "plt.xlabel('Runtime(s)')\n",
    "plt.ylabel('Number of samples in this bin')\n",
    "plt.plot(x, y)\n",
    "plt.show()\n",
    "print('Standard deviation of runtimes is: ', std, ' seconds')"
   ]
  },
  {
   "cell_type": "code",
   "execution_count": 39,
   "metadata": {},
   "outputs": [
    {
     "data": {
      "image/png": "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\n",
      "image/png": "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\n",
      "text/plain": [
       "<Figure size 432x288 with 1 Axes>"
      ]
     },
     "metadata": {
      "needs_background": "light"
     },
     "output_type": "display_data"
    },
    {
     "name": "stdout",
     "output_type": "stream",
     "text": [
      "Standard deviation of runtimes is:  0.020267764429569228  seconds\n"
      "Standard deviation of runtimes is:  0.019294297411806004  seconds\n"
     ]
    }
   ],
   "source": [
    "chroma_time = []\n",
    "for i in range(400):\n",
    "    chroma_start = time.perf_counter()\n",
    "    Fquery = extractChromaFeatures('Recordings/9.mp3')\n",
    "    chroma_end = time.perf_counter()\n",
    "    chroma_time.append(chroma_end - chroma_start)\n",
    "print(chroma_time)\n",
    "mean_chroma, std_chroma = norm.fit(chroma_time)\n",
    "plt.hist(chroma_time, bins=30, normed=True)\n",
    "xmin, xmax = plt.xlim()\n",
    "x = np.linspace(xmin, xmax, 100)\n",
    "y = norm.pdf(x, mean_chroma, std_chroma)\n",
    "plt.xlabel('Runtime(s)')\n",
    "plt.ylabel('Number of samples in this bin')\n",
    "plt.plot(x, y)\n",
    "plt.show()\n",
    "print('Standard deviation of runtimes is: ', std_chroma, ' seconds')"
   ]
  },
  {
   "cell_type": "code",
   "execution_count": 46,
   "metadata": {},
   "outputs": [
    {
     "data": {
      "text/plain": [
       "0.8171290999998746"
      ]
     },
     "execution_count": 46,
     "metadata": {},
     "output_type": "execute_result"
    }
   ],
   "source": [
    "chroma_time"
   ]
  },
  {
   "cell_type": "markdown",
   "metadata": {},
   "source": [
    "# Takeaways:\n",
    "- Increasing the number of steps slightly increases runtime\n",
    "- Increasing widow size noticably increases runtime\n",
    "- Runtime is pretty consistent(standard dev of 0.05 seconds for a window of 369 frames)\n",
    "- Changing weights did not effect runtime\n"
   ]
  },
  {
   "cell_type": "markdown",
   "metadata": {},
   "source": [
    "# Possible approach\n",
    "- calculate the number of frames per second(or find a timestep ~1 second that would be an even number of frames)\n",
    "- every timestep, run dtw on the last N frames of audio. This window would be picked to make runtime possible, but also make dtw guesses accurate(maybe around 350 frames is a good medium?). \n",
    "- This strategy fails when a song has a repeat. To address this, we could also do something where its guess is based on the previous estimates maybe? Runtime gets tricky. We could also potentially eliminate parts of the score based on how long the audio has been going\n"
   ]
  },
  {
   "cell_type": "code",
   "execution_count": 44,
   "execution_count": 40,
   "metadata": {},
   "outputs": [
    {
     "name": "stdout",
     "output_type": "stream",
     "text": [
      "21.533203125\n"
     ]
    }
   ],
   "source": [
    "#Find the number of windows per \n",
    "hop = 1024\n",
    "sr = 22050\n",
    "window = 200\n",
    "timePerFrame = 1/sr * hop\n",
    "print(1/timePerFrame) #maybe pick timestep to be 20 frames"
   ]
  },
  {
   "cell_type": "code",
   "execution_count": 54,
   "execution_count": 41,
   "metadata": {},
   "outputs": [],
   "source": [
    "time_loop = []\n",
    "Fquery_window = []\n",
    "loc_predicted = []\n",
    "\n",
    "# dtw\n",
    "steps = np.array([1, 0, 1, 1]).reshape((2,2))\n",
    "weights = [1.01,1]\n",
    "chroma_start = time.perf_counter()\n",
    "Fquery = extractChromaFeatures('Recordings/9.mp3')\n",
    "chroma_end = time.perf_counter()\n",
    "chroma_time = chroma_end - chroma_start\n",
    "Fref = nine\n",
    "window = Fquery.shape[1]\n",
    "\n",
    "\n",
    "step = 20\n",
    "winsize = 10/timePerFrame\n",
    "Fquery_full = extractChromaFeatures('Recordings/9.mp3')\n",
    "\n",
    "for i in range(len(Fquery_full[0])//step):\n",
    "    newFrames = Fquery_full[i*step:step*(i+1)]  #packet of new frames\n",
    "    time_start = time.perf_counter()            #we should time this\n",
    "    time.sleep(winsize/len(Fquery_full[0]))# amount of time taken to process Fquery (is this needed?) or can we do it in parallel?\n",
    "    Fquery_window.append(newFrames)\n",
    "    \n",
    "    ## DTW\n",
    "    \n",
    "    optcost, path, C = subsequenceDTW(Fquery, Fref, steps, weights)\n",
    "    loc_predicted.append(path[0][1])\n",
    "    # need to delete the stuff at the beginning to preserve window length\n",
    "    if len(Fquery_window) > winsize-1:\n",
    "        Fquery_window = np.delete(Fquery_window,range(20))\n",
    "    time_loop.append(time.perf_counter()-time_start)"
   ]
  },
  {
   "cell_type": "code",
   "execution_count": 55,
   "execution_count": 42,
   "metadata": {},
   "outputs": [
    {
     "data": {
      "image/png": "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\n",
      "image/png": "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\n",
      "text/plain": [
       "<Figure size 432x288 with 1 Axes>"
      ]
     },
     "metadata": {
      "needs_background": "light"
     },
     "output_type": "display_data"
    },
    {
     "name": "stdout",
     "output_type": "stream",
     "text": [
      "Standard deviation of runtimes is:  0.02855620430463078  seconds\n"
      "Standard deviation of runtimes is:  0.027276302285783385  seconds\n"
     ]
    }
   ],
   "source": [
    "mean_loop, std_loop = norm.fit(time_loop)\n",
    "plt.hist(time_loop, bins=30, normed=True)\n",
    "xmin, xmax = plt.xlim()\n",
    "x = np.linspace(xmin, xmax, 100)\n",
    "y = norm.pdf(x, mean_loop, std_loop)\n",
    "plt.xlabel('Runtime (s)')\n",
    "plt.ylabel('Number of samples in this bin')\n",
    "plt.plot(x, y)\n",
    "plt.show()\n",
    "print('Standard deviation of runtimes is: ', std_loop, ' seconds')"
   ]
  },
  {
   "cell_type": "code",
   "execution_count": 56,
   "metadata": {},
   "outputs": [
    {
     "data": {
      "text/plain": [
       "[<matplotlib.lines.Line2D at 0x1d6c0e70fc8>]"
      ]
     },
     "execution_count": 56,
     "metadata": {},
     "output_type": "execute_result"
    },
    {
     "data": {
      "image/png": "iVBORw0KGgoAAAANSUhEUgAAAlAAAAEvCAYAAACKfv/MAAAABHNCSVQICAgIfAhkiAAAAAlwSFlzAAALEgAACxIB0t1+/AAAADh0RVh0U29mdHdhcmUAbWF0cGxvdGxpYiB2ZXJzaW9uMy4xLjMsIGh0dHA6Ly9tYXRwbG90bGliLm9yZy+AADFEAAAQmklEQVR4nO3dfYxld13H8c9XFoJZipR0WxG6LhAgPoTWMjTEysMS2AiJVORBiCiEPxYVDGjwISICGhKCIPIXsAgGDeUhwiJqrO0fCPIPMIstXaA8NQu2W7u7IUD7h5C2X/+YM2ZdZ3burzvTe2d4vZJmzj33nNlvTk5n3znnzN3q7gAAMLsfmfcAAADbjYACABgkoAAABgkoAIBBAgoAYJCAAgAYtGuWjarqWJLbk9yV5M7uXqqqS5K8M8kDkhxL8mvd/b2zfZ8LLrig9+3bdy7zAgDcK44cOXKqu/es9d5MATXZ392nTnv910le3d2frKqXJvn9JK892zfYt29flpeXB/5IAID5qKpvrvfeudzCe0yST03L1yZ5zjl8LwCAbWPWgOok11TVkao6OK07muRZ0/Lzkly82cMBACyiWQPqiu6+LMkzkry8qp6U5KXT8pEk5yX5wVo7VtXBqlququWTJ09uytAAAPM0U0B19/Hp64kkh5Nc3t03dveB7n5ckg8k+cY6+x7q7qXuXtqzZ83nsAAAtpUNA6qqdlfVeavLSQ4kOVpVF07rfiTJn2TlN/IAAHa8Wa5AXZTk01V1fZLPJvnn7r46yQur6qtJbkxyPMnfbN2YAACLY8OPMejum5Jcssb6tyd5+1YMBQCwyHwSOQDAIAEFADBIQAEADBJQAACDBBQAwCABBQAwSEABAAwSUAAAgwQUAMAgAQUAMEhAAQAMElAAAIMEFADAIAEFADBIQAEADBJQAACDBBQAwCABBQAwSEABAAwSUAAAgwQUAMAgAQUAMEhAAQAMElAAAIMEFADAIAEFADBIQAEADBJQAACDBBQAwCABBQAwSEABAAwSUAAAgwQUAMAgAQUAMEhAAQAM2jXLRlV1LMntSe5Kcmd3L1XVpUnemeT+Se5M8tvd/dmtGhQAYFHMFFCT/d196rTXb07yhu7+l6p65vT6KZs5HADAIjqXW3id5IHT8o8lOX7u4wAALL5Zr0B1kmuqqpO8q7sPJXlVkn+tqrdkJcR+fotmBABYKLMG1BXdfbyqLkxybVXdmOS5SX63uz9SVc9P8p4kTztzx6o6mORgkuzdu3eTxgYAmJ/q7rEdql6f5I4kr03yoO7uqqok3+3uB55t36WlpV5eXr6nswIA3Guq6kh3L6313obPQFXV7qo6b3U5yYEkR7PyzNOTp82emuRrmzMuAMBim+UW3kVJDq9cZMquJFd199VVdUeSt1fVriT/nek2HQDATrdhQHX3TUkuWWP9p5M8biuGAgBYZD6JHABgkIACABgkoAAABgkoAIBBAgoAYJCAAgAYJKAAAAYJKACAQQIKAGCQgAIAGCSgAAAGCSgAgEECCgBgkIACABgkoAAABgkoAIBBAgoAYJCAAgAYJKAAAAYJKACAQQIKAGCQgAIAGCSgAAAGCSgAgEECCgBgkIACABgkoAAABgkoAIBBAgoAYJCAAgAYJKAAAAYJKACAQQIKAGCQgAIAGCSgAAAG7Zplo6o6luT2JHclubO7l6rqQ0keM23yoCTf6e5Lt2RKAIAFMlNATfZ396nVF939q6vLVfXWJN/dzMEAABbVSECtqaoqyfOTPPXcxwEAWHyzPgPVSa6pqiNVdfCM956Y5Lbu/trmjgYAsJhmvQJ1RXcfr6oLk1xbVTd296em916Y5APr7TgF18Ek2bt37zkNCwCwCGa6AtXdx6evJ5IcTnJ5klTVriS/kuRDZ9n3UHcvdffSnj17zn1iAIA52zCgqmp3VZ23upzkQJKj09tPS3Jjd9+8dSMCACyWWW7hXZTk8Mqz4tmV5Kruvnp67wU5y+07AICdaMOA6u6bklyyznsv2eyBAAAWnU8iBwAYJKAAAAYJKACAQQIKAGCQgAIAGCSgAAAGCSgAgEECCgBgkIACABgkoAAABgkoAIBBAgoAYJCAAgAYJKAAAAYJKACAQQIKAGCQgAIAGCSgAAAGCSgAgEECCgBgkIACABgkoAAABgkoAIBBAgoAYJCAAgAYJKAAAAYJKACAQQIKAGCQgAIAGCSgAAAGCSgAgEECCgBgkIACABgkoAAABgkoAIBBAgoAYNBMAVVVx6rqhqq6rqqWT1v/O1X1lar6YlW9eevGBABYHLsGtt3f3adWX1TV/iRXJnlsd3+/qi7c9OkAABbQSECd6beSvKm7v58k3X1ic0a6597wj1/Ml45/b95jAABb7Kd/4oF53S/9zNz+/Fmfgeok11TVkao6OK17dJInVtVnquqTVfX4tXasqoNVtVxVyydPntyMmQEA5mrWK1BXdPfx6TbdtVV147Tv+UmekOTxST5cVY/o7j59x+4+lORQkiwtLXW20DxLFAD44THTFajuPj59PZHkcJLLk9yc5KO94rNJ7k5ywVYNCgCwKDYMqKraXVXnrS4nOZDkaJKPJXnqtP7RSe6X5NR63wcAYKeY5RbeRUkOV9Xq9ld199VVdb8k762qo0l+kOTFZ96+AwDYiTYMqO6+Kckla6z/QZIXbcVQAACLzCeRAwAMElAAAIMEFADAIAEFADBIQAEADBJQAACDBBQAwCABBQAwSEABAAwSUAAAgwQUAMAgAQUAMEhAAQAMElAAAIMEFADAIAEFADBIQAEADBJQAACDBBQAwCABBQAwSEABAAwSUAAAgwQUAMAgAQUAMEhAAQAMElAAAIMEFADAIAEFADBIQAEADBJQAACDBBQAwCABBQAwSEABAAwSUAAAgwQUAMCgmQKqqo5V1Q1VdV1VLU/rXl9Vt0zrrquqZ27tqAAAi2HXwLb7u/vUGeve1t1v2cyBAAAWnVt4AACDZg2oTnJNVR2pqoOnrX9FVX2hqt5bVeevtWNVHayq5apaPnny5DkPDAAwb7MG1BXdfVmSZyR5eVU9Kck7kjwyyaVJbk3y1rV27O5D3b3U3Ut79uzZjJkBAOZqpoDq7uPT1xNJDie5vLtv6+67uvvuJO9OcvnWjQkAsDg2DKiq2l1V560uJzmQ5GhVPeS0zZ6d5OjWjAgAsFhm+S28i5IcrqrV7a/q7qur6u+q6tKsPB91LMnLtmxKAIAFsmFAdfdNSS5ZY/2vb8lEAAALzscYAAAMElAAAIMEFADAIAEFADBIQAEADBJQAACDBBQAwCABBQAwSEABAAwSUAAAgwQUAMAgAQUAMEhAAQAMElAAAIMEFADAIAEFADBIQAEADBJQAACDBBQAwCABBQAwSEABAAwSUAAAgwQUAMAgAQUAMEhAAQAMElAAAIMEFADAIAEFADBIQAEADBJQAACDBBQAwCABBQAwSEABAAwSUAAAgwQUAMCgmQKqqo5V1Q1VdV1VLZ/x3qurqqvqgq0ZEQBgsewa2HZ/d586fUVVXZzk6Um+talTAQAssHO9hfe2JH+QpDdhFgCAbWHWgOok11TVkao6mCRV9awkt3T39WfbsaoOVtVyVS2fPHnyHMcFAJi/WW/hXdHdx6vqwiTXVtWNSV6T5MBGO3b3oSSHkmRpacmVKgBg25vpClR3H5++nkhyOMmTkzw8yfVVdSzJw5J8vqp+fIvmBABYGBsGVFXtrqrzVpezctXpc919YXfv6+59SW5Ocll3/9eWTgsAsABmuYV3UZLDVbW6/VXdffWWTgUAsMA2DKjuvinJJRtss2+zBgIAWHQ+iRwAYJCAAgAYJKAAAAYJKACAQQIKAGCQgAIAGCSgAAAGCSgAgEECCgBgkIACABgkoAAABgkoAIBBAgoAYJCAAgAYJKAAAAYJKACAQQIKAGCQgAIAGCSgAAAGCSgAgEECCgBgkIACABgkoAAABgkoAIBBAgoAYJCAAgAYJKAAAAYJKACAQQIKAGCQgAIAGCSgAAAGCSgAgEECCgBgkIACABgkoAAABu2aZaOqOpbk9iR3Jbmzu5eq6s+TXJnk7iQnkryku49v1aAAAIti5ArU/u6+tLuXptd/0d2P7e5Lk/xTkj/d/PEAABbPPb6F193fO+3l7iR97uMAACy+mW7hZSWOrqmqTvKu7j6UJFX1xiS/keS7SfavtWNVHUxyMEn27t17zgMDAMzbrFegrujuy5I8I8nLq+pJSdLdr+nui5O8P8kr1tqxuw9191J3L+3Zs2dThgYAmKeZAmr14fDuPpHkcJLLz9jkqiTP2dzRAAAW04YBVVW7q+q81eUkB5IcrapHnbbZs5LcuDUjAgAsluo++7PfVfWIrFx1Slaembqqu99YVR9J8pisfIzBN5P8ZnffssH3Ojltu5UuSHJqi/+MncYxG+eYjXPMxjlm4xyzMY7X2f1kd6/5/NGGAbXdVNXyaR+1wAwcs3GO2TjHbJxjNs4xG+N43XM+iRwAYJCAAgAYtBMD6tC8B9iGHLNxjtk4x2ycYzbOMRvjeN1DO+4ZKACArbYTr0ABAGypHRVQVfWLVfWVqvp6Vf3RvOfZDqrqWFXdUFXXVdXyvOdZRFX13qo6UVVHT1v34Kq6tqq+Nn09f54zLpp1jtnrq+qW6Vy7rqqeOc8ZF0lVXVxVn6iqL1fVF6vqldN659k6znLMnGfrqKr7V9Vnq+r66Zi9YVr/8Kr6zHSefaiq7jfvWbeDHXMLr6ruk+SrSZ6e5OYkn0vywu7+0lwHW3BVdSzJUnf7HJB1TP900R1J/ra7f3Za9+Yk3+7uN02xfn53/+E851wk6xyz1ye5o7vfMs/ZFlFVPSTJQ7r789MHFx9J8stJXhLn2ZrOcsyeH+fZmqqqkuzu7juq6r5JPp3klUl+L8lHu/uDVfXOJNd39zvmOet2sJOuQF2e5OvdfVN3/yDJB5NcOeeZ2AG6+1NJvn3G6iuTvG9afl9WfnAzWeeYsY7uvrW7Pz8t357ky0keGufZus5yzFhHr7hjennf6b9O8tQkfz+td57NaCcF1EOT/Odpr2+O/5lm0UmuqaojVXVw3sNsIxd1963Jyg/yJBfOeZ7t4hVV9YXpFp/bUWuoqn1Jfi7JZ+I8m8kZxyxxnq2rqu5TVdclOZHk2iTfSPKd7r5z2sTfnTPaSQFVa6zbGfcnt9YV3X1Zkmckefl06wW2wjuSPDLJpUluTfLW+Y6zeKrqAUk+kuRV3f29ec+zHaxxzJxnZ9Hdd3X3pUkelpU7Nz+11mb37lTb004KqJuTXHza64clOT6nWbaN7j4+fT2RlX/z8PL5TrRt3DY9g7H6LMaJOc+z8Lr7tumH991J3h3n2v8xPZPykSTv7+6PTqudZ2ex1jFzns2mu7+T5N+SPCHJg6pq1/SWvztntJMC6nNJHjX9NsH9krwgycfnPNNCq6rd08OXqardSQ4kOXr2vZh8PMmLp+UXJ/mHOc6yLayGwOTZca79r+nh3vck+XJ3/+VpbznP1rHeMXOera+q9lTVg6blH03ytKw8O/aJJM+dNnOezWjH/BZekky/rvpXSe6T5L3d/cY5j7TQquoRWbnqlCS7klzlmP1/VfWBJE/Jyr9afluS1yX5WJIPJ9mb5FtJntfdHpqerHPMnpKV2yqd5FiSl60+3/PDrqp+Icm/J7khyd3T6j/OyjM9zrM1nOWYvTDOszVV1WOz8pD4fbJyAeXD3f1n098FH0zy4CT/keRF3f39+U26PeyogAIAuDfspFt4AAD3CgEFADBIQAEADBJQAACDBBQAwCABBQAwSEABAAwSUAAAg/4HPGElrzQNTzcAAAAASUVORK5CYII=\n",
      "text/plain": [
       "<Figure size 720x360 with 1 Axes>"
      ]
     },
     "metadata": {
      "needs_background": "light"
     },
     "output_type": "display_data"
    }
   ],
   "source": [
    "plt.figure(1,figsize=(10,5))\n",
    "plt.plot(loc_predicted)"
   ]
  },
  {
   "cell_type": "markdown",
   "metadata": {},
   "source": [
    "### STFT Functions"
   ]
  },
  {
   "cell_type": "markdown",
   "metadata": {},
   "source": [
    "Functions for modifying STFTs\n",
    "- magSTFT calculates the normal and magnitude STFT\n",
    "- logCompression applies elementwise logarithmic compression \n",
    "- harmonicSummation sums the harmonics of a log frequency STFT\n"
   ]
  },
  {
   "cell_type": "code",
   "execution_count": 6,
   "metadata": {},
   "outputs": [],
   "source": [
    "def magSTFT(mp3file, sr = 22050, winsize = 2048, hop = 1024, gamma = 10000):\n",
    "    '''\n",
    "    Calculate the STFT for an MP3\n",
    "    \n",
    "    Arguments:\n",
    "    mp3file -- target mp3 file\n",
    "    \n",
    "    Returns:\n",
    "    S = STFT\n",
    "    Smag -- magnitude STFT\n",
    "    '''\n",
    "    Y, sr  = lb.core.load(mp3file, sr = sr)\n",
    "    f, t, S = ss.stft(Y, fs = sr, nperseg = winsize, noverlap = winsize - hop)\n",
    "    Smag = np.abs(S)\n",
    "    return S, Smag"
   ]
  },
  {
   "cell_type": "code",
   "execution_count": 7,
   "metadata": {},
   "outputs": [],
   "source": [
    "def harmonicSummation(S_lf, bins=12, numHarmonics=5):\n",
    "    '''\n",
    "    Sum harmonics in a log frequency spectrogram\n",
    "    \n",
    "    Arguments:\n",
    "    S_lf -- log frequency STFT\n",
    "    bins -- bins per octave\n",
    "    numHarmonics -- number of harmonics to sum\n",
    "    \n",
    "    Returns:\n",
    "    harmonicsSummed -- logSTFT with harmonics summed\n",
    "    '''\n",
    "    filterBins = np.round(bins * np.log2(np.arange(numHarmonics)+1)).astype(int)\n",
    "    height = np.amax(filterBins)\n",
    "    filters = np.zeros((height+1, 1))\n",
    "    filters[filterBins] = 1\n",
    "    filters = np.flipud(filters)\n",
    "    harmonicsSummed = ss.convolve2d(S_lf, filters)\n",
    "    harmonicsSummed = harmonicsSummed[harmonicsSummed.shape[0] - S_lf.shape[0]:, :]\n",
    "    return harmonicsSummed"
   ]
  },
  {
   "cell_type": "code",
   "execution_count": 8,
   "metadata": {},
   "outputs": [],
   "source": [
    "def logCompression(F, gamma = 10000):\n",
    "    '''\n",
    "    Apply element-wise logarithmic compression.\n",
    "    \n",
    "    Arguments:\n",
    "    F -- input matrix\n",
    "    gamma -- scalar that controls the level of compression as ln(1 + gamma * c)\n",
    "    \n",
    "    Returns:\n",
    "    Fc -- matrix of logarithmically compressed values.  Fc is of the same size as F.\n",
    "    '''\n",
    "    Fc = np.zeros_like(F)\n",
    "    for x in range(0, len(F)):\n",
    "        for y in range(0, len(F[0])):\n",
    "            Fc[x][y] = np.log(1+gamma*F[x][y])\n",
    "    return Fc"
   ]
  },
  {
   "cell_type": "code",
   "execution_count": 9,
   "metadata": {},
   "outputs": [],
   "source": [
    "def plotLinearSpec(S, hop=1024, sr=22050, plotname='test', log = True):\n",
    "    plt.figure(num=None, figsize=(16, 6), dpi=80, facecolor='w', edgecolor='k')\n",
    "    S = abs(S)\n",
    "    title = 'STFT of:  '\n",
    "    if log:\n",
    "        S = np.log(S)\n",
    "        title = 'log STFT of:  '\n",
    "    plt.imshow(S, origin='lower', cmap = 'jet', aspect = 'auto')\n",
    "    plt.title(title + plotname)\n",
    "    plt.xlabel('frame number')\n",
    "    plt.ylabel('Chroma Feature')\n",
    "    plt.colorbar()\n"
   ]
  },
  {
   "cell_type": "markdown",
   "metadata": {},
   "source": [
    "### Extracting Chroma Features from input MP3"
   ]
  },
  {
   "cell_type": "markdown",
   "metadata": {},
   "source": [
    "Chroma feature process\n",
    "- determine the log frequency conversion matrix by calling getLogFreqConversionMatrix()\n",
    "- determine the chroma conversion matrix by calling getChromaConversionMatrix()\n",
    "- sum harmonics on the log frequency matrix\n",
    "- compute chroma features by applying the chroma conversion matrix\n",
    "- apply element-wise logarithmic compression by calling logCompression()\n",
    "- L2 normalize each column by calling normL2()"
   ]
  },
  {
   "cell_type": "code",
   "execution_count": 10,
   "metadata": {},
   "outputs": [],
   "source": [
    "def getLogFreqConversionMatrix(N, fs):\n",
    "    '''\n",
    "    Determine the log frequency conversion matrix that can be used to pre-multiply a one-sided spectrogram\n",
    "    to get a log frequency spectrogram.\n",
    "    \n",
    "    Arguments:\n",
    "    N -- analysis window size\n",
    "    fs -- sampling rate\n",
    "    \n",
    "    Returns:\n",
    "    B -- a binary matrix of shape (128, (N/2)+1).  The log frequency spectrogram can be computed\n",
    "         by computing the matrix product of B and the spectrogram matrix.\n",
    "    '''\n",
    "    numBins = int(N/2) + 1\n",
    "    pitchMax = 128\n",
    "    B = np.zeros((pitchMax, numBins))\n",
    "    p = np.arange(pitchMax)\n",
    "    pitchFrequencies = []\n",
    "    for pitch in range(0, len(p)):\n",
    "        pitchFrequencies.append([440*N/fs * 2**(((pitch-0.5) - 69)/12), 440*N/fs * 2**(((pitch+0.5) - 69)/12)])\n",
    "        initIndex = int(pitchFrequencies[pitch][0])\n",
    "        while initIndex<pitchFrequencies[pitch][1]:\n",
    "            try:\n",
    "                if pitchFrequencies[pitch][0]<initIndex and initIndex<pitchFrequencies[pitch][1]:\n",
    "                    B[pitch][initIndex] = 1\n",
    "            except:\n",
    "                pass\n",
    "            initIndex +=1\n",
    "    return B"
   ]
  },
  {
   "cell_type": "code",
   "execution_count": 11,
   "metadata": {},
   "outputs": [],
   "source": [
    "def getChromaMatrix(logF):\n",
    "    '''\n",
    "    Determine the chroma feature matrix that can be used to pre-multiply a one-sided spectrogram\n",
    "    to calculate chroma features.\n",
    "    \n",
    "    Arguments:\n",
    "    logF -- log Frequency STFT(can have harmonics summed)\n",
    "    \n",
    "    Returns:\n",
    "    F -- a chroma feature matrix with the same number of columns as the STFT, but only 12 rows\n",
    "    '''\n",
    "    F = np.zeros([12, logF.shape[1]])\n",
    "    for c in range(0, logF.shape[1]):\n",
    "        for x in range(0, 12):\n",
    "            num = 0\n",
    "            for y in range(x, logF.shape[0], 12):\n",
    "                num += logF[y][c]\n",
    "            F[x][c] += num\n",
    "    return F"
   ]
  },
  {
   "cell_type": "code",
   "execution_count": 12,
   "metadata": {},
   "outputs": [],
   "source": [
    "def normL2(F):\n",
    "    '''\n",
    "    Normalize each column of a matrix to have unit L2 norm.\n",
    "    \n",
    "    Arguments:\n",
    "    F -- input feature matrix where each column corresponds to a single feature vector\n",
    "    \n",
    "    Returns:\n",
    "    Fnorm -- normalized feature matrix of the same shape as F, where each column has been\n",
    "             been normalized to be unit L2 norm\n",
    "    '''\n",
    "    row, col = F.shape\n",
    "    for x in range(0, col):\n",
    "        norm = np.linalg.norm(F[:,x])\n",
    "        F[:,x] = F[:,x]/ (norm + 1e-9)\n",
    "    Fnorm = F\n",
    "    return Fnorm"
   ]
  },
  {
   "cell_type": "code",
   "execution_count": 17,
   "execution_count": 35,
   "metadata": {},
   "outputs": [
    {
     "data": {
      "image/png": "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\n",
      "text/plain": [
       "<Figure size 1280x480 with 2 Axes>"
      ]
     },
     "metadata": {},
     "output_type": "display_data"
    },
    {
     "data": {
      "image/png": "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\n",
      "text/plain": [
       "<Figure size 1280x480 with 2 Axes>"
      ]
     },
     "metadata": {},
     "output_type": "display_data"
    }
   ],
   "source": [
    "def extractChromaFeatures(mp3file, sr = 22050, winsize = 2048, hop = 1024, gamma = 100000):\n",
    "    '''\n",
    "    Compute chroma feature matrix on a specified audio file.\n",
    "    \n",
    "    Arguments:\n",
    "    Smag --  magnitude STFT\n",
    "    sr -- desired sampling rate in Hz\n",
    "    winsize -- analysis window size in samples\n",
    "    hop -- hop size in samples\n",
    "    gamma -- coefficient used in log compression\n",
    "    \n",
    "    Returns:\n",
    "    F -- chroma feature matrix of size (12, M), where M is the number of audio frames.  The\n",
    "         features have logarithmic compression and each column is L2 normalized.\n",
    "    '''\n",
    "    S,Smag = magSTFT(mp3file)\n",
    "    height, width = Smag.shape\n",
    "    B = getLogFreqConversionMatrix(winsize, sr)\n",
    "    logF = np.dot(B,Smag)\n",
    "    #logFsummedHarmonics = harmonicSummation(logF)\n",
    "    f = getChromaMatrix(logF) #Change logFsummedHarmonics to logF to test without harmonic summation\n",
    "    f1 = logCompression(f, gamma)\n",
    "    F = normL2(f1)\n",
    "    return F\n",
    "F = extractChromaFeatures('Recordings/4.mp3')\n",
    "plotLinearSpec(F)\n",
    "Fref = four\n",
    "plotLinearSpec(Fref)"
   ]
  },
  {
   "cell_type": "markdown",
   "metadata": {},
   "source": [
    "# Score Chroma Features"
   ]
  },
  {
   "cell_type": "code",
   "execution_count": 16,
   "execution_count": 28,
   "metadata": {},
   "outputs": [],
   "source": [
    "C= [1,0,0,0,0,0,0,0,0,0,0,0]\n",
    "Cs = [0,1,0,0,0,0,0,0,0,0,0,0]\n",
    "D= [0,0,1,0,0,0,0,0,0,0,0,0]\n",
    "Ds =[0,0,0,1,0,0,0,0,0,0,0,0] \n",
    "E = [0,0,0,0,1,0,0,0,0,0,0,0] \n",
    "F= [0,0,0,0,0,1,0,0,0,0,0,0] \n",
    "Fs = [0,0,0,0,0,0,1,0,0,0,0,0] \n",
    "G= [0,0,0,0,0,0,0,1,0,0,0,0] \n",
    "Gs= [0,0,0,0,0,0,0,0,1,0,0,0]\n",
    "A= [0,0,0,0,0,0,0,0,0,1,0,0]\n",
    "As= [0,0,0,0,0,0,0,0,0,0,1,0]\n",
    "B= [0,0,0,0,0,0,0,0,0,0,0,1]\n",
    "K = 0\n",
    "A = list(map(lambda x : x + K, A)) \n",
    "As = list(map(lambda x : x + K, As)) \n",
    "B= list(map(lambda x : x + K, B)) \n",
    "C = list(map(lambda x : x + K, C)) \n",
    "Cs = list(map(lambda x : x + K, Cs)) \n",
    "D = list(map(lambda x : x + K, D)) \n",
    "Ds = list(map(lambda x : x + K, Ds)) \n",
    "E = list(map(lambda x : x + K, E)) \n",
    "F = list(map(lambda x : x + K, F)) \n",
    "Fs = list(map(lambda x : x + K, Fs)) \n",
    "G= list(map(lambda x : x + K, G)) \n",
    "Gs = list(map(lambda x : x + K, Gs)) \n",
    "# A = \"A\"\n",
    "# As = \"As\"\n",
    "# B = \"B\"\n",
    "# C = \"C\"\n",
    "# Cs = \"Cs\"\n",
    "# D = \"D\"\n",
    "# Ds = \"Ds\"\n",
    "# E = \"E\"\n",
    "# F = \"F\"\n",
    "# Fs = \"F\"\n",
    "# G = \"G\"\n",
    "# Gs = \"Gs\"\n",
    "\n",
    "\n",
    "one = np.transpose(np.vstack([A,B,Cs,D,E,Fs,Gs,A,B,Cs,D,E,Fs,Gs,A,B,Cs,D,E,Fs,Gs,A,Gs,Fs,E,D,Cs,B,A,Gs,Fs,E,D,Cs,B,A,Gs,Fs,E,D,Cs,B,A,B,Cs,D,E,Fs,Gs,A,B,Cs,D,E,Fs,Gs,A,B,Cs,D,E,Fs,Gs,A,Gs,Fs,E,D,Cs,B,A,Gs,Fs,E,D,Cs,B,A,Gs,Fs,E,D,Cs,B,A]))\n",
    "\n",
    "two = np.transpose(np.vstack([C,Cs,D,Ds,E,F,Fs,G,Gs,A,As,B,C,Cs,D,Ds,E,F,Fs,G,Gs,A,As,B,C,B,As,A,Gs,G,Fs,F,E,Ds,D,Cs,C,B,As,A,Gs,G,Fs,F,E,Ds,D,Cs,C,\n",
    "       Cs,D,Ds,E,F,Fs,G,Gs,A,As,B,C,Cs,D,Ds,E,F,Fs,G,Gs,A,As,B,C,\n",
    "       B,As,A,Gs,G,Fs,F,E,Ds,D,Cs,C,B,As,A,Gs,G,Fs,F,E,Ds,D,Cs,C]))\n",
    "three = np.transpose(np.vstack([E,D,C,D,E,E,E,D,D,D,E,G,G,E,D,C,D,E,E,E,D,D,D,E,D,C]))\n",
    "#threeT = [3,1,2,2,2,2,4,2,2,4,2,2,4,3,1,2,2,2,2,4,2,1,1,2,2,6]\n",
    "four = np.transpose(np.vstack([A,B,Cs,A,B,Cs,B,A,G,Fs,G,A,B,G,E,A,B,Cs,A,B,Cs,B,A,G,\n",
    "       Fs,B,G,E,A,A,B,Cs,A,B,Cs,B,A,G,Fs,G,A,B,G,E,A,B,Cs,A,B,Cs,B,A,G,\n",
    "       Fs,B,G,E,A]))\n",
    "five = np.transpose(np.vstack([Gs,As,C,Cs,Ds,F,G,Gs,As,C,Cs,Ds,F,G,Gs,\n",
    "        G,F,Ds,Cs,C,As,Gs,G,F,Ds,Cs,C,As,Gs,\n",
    "        As,C,Cs,Ds,F,G,Gs,As,C,Cs,Ds,F,G,Gs,\n",
    "        G,F,Ds,Cs,C,As,Gs,G,F,Ds,Cs,C,As,Gs]))\n",
    "six = np.transpose(np.vstack([Cs, D, F, As, As, Cs, D, F, Gs, Gs, F, G, Cs, D, F, F, Gs,\n",
    "    C, C, D, F, F, F, Ds, D, C, D, Ds, D, C, As, C, D, C, As, A, As,\n",
    "    Cs, B, A, G, A, C, As, Gs, G, F]))\n",
    "\n",
    "seven = np.transpose(np.vstack([Gs, B, Gs, B, Gs, Gs, B, Gs, B, Gs, Gs, B, Gs, B, Gs, \n",
    "    Cs, Gs, B, Gs, Cs, Gs, Cs, B, Gs, Cs, Cs, Cs, Fs, As, Fs, Cs, As, \n",
    "    Gs, G, Fs, D, Cs, D, Cs, Cs, E, Cs, E, Fs, Cs, E, Cs, Cs, E, Cs, A, Gs, E, Cs]))\n",
    "\n",
    "eight = np.transpose(np.vstack([B, As, B, As, Ds, Fs, F, As, Ds, C, B, As, B, As, Ds, Fs, F, As, C, \n",
    "    Ds, B, As, B, As, Ds, Fs, F, As, Ds, C, B, As, B, As, Ds, Fs, F, As, C, Ds,\n",
    "    As, C, Cs, G, F, Ds, F, G, D, C, Gs, A, As, Gs, G, Ds]))\n",
    "\n",
    "nine = np.transpose(np.vstack([G,E,E,F,D,D,C,D,E,F,G,G,G,G,E,E,E,F,D,D,D,C,E,G,G,E,E,\n",
    "    E,D,D,D,D,D,E,F,E,E,E,E,E,F,G,G,E,E,E,F,D,D,D,C,E,G,G,E,E,E]))\n",
    "ten = np.transpose(np.vstack([G,A,G,F,E,F,G,D,E,F,E,F,G,G,A,G,F,E,F,G,D,G,E,C]))\n",
    "eleven = np.transpose(np.vstack([C,D,E,F,G,A,B,C,B,A,G,F,E,D,C,E,G,C,G,E,C]))\n",
    "twelve = np.transpose(np.vstack([C,C,G,G,A,A,G,F,F,E,E,D,D,C,G,G,F,F,E,E,D,G,G,F,F,E,E,D,C,C,G,G,A,A,G,F,F,E,E,D,D,C]))\n",
    "thirteen = np.transpose(np.vstack([A, Fs, D, Fs, G, A, As, C, D, Ds, Fs, G, D, A, Fs, D, Fs, G, D, Cs,As, A, G, Fs, Fs, D, A, Fs, D, As, A, G, A, As, C, D, Ds, Fs, G, D, A, Fs, D, Fs, G, D, Cs, As, A, G, Fs, Fs, D]))\n",
    "fourteen = np.transpose(np.vstack([C,C,D,C,F,E,C,C,D,C,G,F,C,C,C,A,F,E,D,As,As,A,F,G,F,C,C,D,C,F,E,C,C,D,C,G,F,C,C,C,A,F,E,D,As,As,A,F,G,F]))\n",
    "fifteen = np.transpose(np.vstack([Fs, D, G, A, G, Fs, E, Fs, B, Cs, E, D, E, D, Cs, D, B, Cs, B, A, B,\n",
    "    A, Gs, A, Cs, Cs, B, A, B, A, Gs, A, Cs, B, A, Cs, B, Cs, B, A, Cs, Cs, B, As, Cs,\n",
    "    B, Cs, B, As, Fs]))\n",
    "sixteen = np.transpose(np.vstack([A,B,C,D,E,F,G,A,B,C,D,E,F,G,A,G,F,E,D,C,B,A,G,F,E,D,C,B,\n",
    "    A,B,C,D,E,F,G,A,B,C,D,E,F,G,A,G,F,E,D,C,B,A,G,F,E,D,C,B,A]))\n",
    "seventeen = np.transpose(np.vstack([E,E,D,C,C,D,D,E,D,C,G,G,F,E,E,D,C,D,E,C,E,E,F,G,G,\n",
    "    A,A,G,F,E,E,E,F,G,G,A,A,G,E,E,D,C,C,D,D,E,D,C,G,G,F,E,E,D,C,D,E,C]))\n",
    "eighteen = np.transpose(np.vstack([C,F,E,F,A,C,F,F,E,D,C,F,G,A,As,D,F,G,A,\n",
    "    C,G,C,F,E,F,A,C,A,A,G,F,E,F,A,D,F,E,Ds,D,E,C]))\n",
    "nineteen = np.transpose(np.vstack([B,G,Fs,E,D,A,B,G,Fs,E,D,A,B,G,E,D,C,G,A,D,B,B,C,A,B,G,A,Fs,G,E,Fs,G,A,B]))\n",
    "twenty = np.transpose(np.vstack([C,D,E,F,G,A,B,C,B,A,G,F,E,D,C]))\n",
    "twentyone = np.transpose(np.vstack([A,Cs,E,A,Cs,E,A,E,Cs,A,E,Cs,A,Cs,E,A,Cs,E,A,E,Cs,A,\n",
    "    E,Cs,A,Cs,E,A,Cs,E,A,E,Cs,A,E,Cs,A,Cs,E,A,Cs,E,A,E,Cs,A,E,Cs,A]))\n",
    "\n",
    "twentytwo = np.transpose(np.vstack([E,D,C,G,F,E,E,D,C,G,F,E,G,F,E,D,C,C,A,E,F,Fs,G,C,Ds,E,C,E,D,C,G,F,E,E,D,C,G,F,E,G,F,E,D,C,C,A,E,F,Fs,G,C,Ds,E,C]))\n",
    "\n",
    "twentythree = np.transpose(np.vstack([D,C,A,C,C,D,C,G,E,C,D,C,A,C,B,B,B,B,A,G,E,D,C,G,F,E,E,D,C,G,F,E,G,F,E,D,C,C,A,E,F,Fs,G,C,Ds,E,C]))\n",
    "\n",
    "twentyfour = np.transpose(np.vstack([G,Fs,G,Fs,E,G,Fs,G,Fs,G,Fs,E,Gs,B,Gs,F,E,A,G,A,G,E,A,G,Ds,G,D,E,G,A,B,E,D,G,Fs,G,Fs,E,G,Fs,G,Fs,G,Fs,E,Gs,B,Gs,F,E,A,G,A,G,E,A,G,Ds,G,D,E,G,A,As,A,G]))\n",
    "twentyfive = np.transpose(np.vstack([Ds,C,Ds,C,As,G,As,C,D,Ds,C,Ds,As,Ds,C,E,C,As,G,As,C,D,Ds,As,C,D,G,Fs,G,Fs,E,G,Fs,G,Fs,G,Fs,E,Gs,B,Gs,F,E,A,G,A,G,E,A,G,Ds,G,D,E,G,A,As,A,G]))\n",
    "twentysix = np.transpose(np.vstack([A,D,E,F,E,F,B,A,G,Fs,G,D,Cs,C,B,A,Gs,A,G,G,A,B,E,E,G,G,G,Gs,Gs,Gs,A,A,B,B,B]))\n",
    "twentyseven = np.transpose(np.vstack([As,C,D,As,C,D,As,C,D,F,Ds,D,As,C,Cs,Ds,F,G,Ds,F,G,Ds,F,G,As,Gs,G,Ds,F,Fs,F,G,Gs,A,B,E,G,As,B,E,Ds,C,B,A,G,F,G,Gs,As,Ds,G,As,B,E,Ds,C,As,Gs,G]))\n",
    "twentyeight = np.transpose(np.vstack([G,E,E,D,G,E,E,E,D,G,E,E,D,G,G,E,E,E,D,F,D,D,D,C,E,C,C,C,As,C,G,E,E,D,G,E,E,E,D,G,E,E,D,G,G,E,E,E,D,F,D,D,D,C,E,C,C,C,As,C]))\n",
    "twentynine = np.transpose(np.vstack([F,Fs,Ds,F,Ds,Cs,Ds,Gs,A,Gs,Fs,Gs,Fs,E,Fs,A,As,A,G,A,G,F,G,A,As,C,C,D,E,F,G,Gs,A,As,As,C,D,E,F,Fs,G,E,E,D,G,E,E,E,D,G,E,E,D,G,G,E,E,E,D,A,F,F,F,D,C,E,E,E,D,D]))\n",
    "thirty = np.transpose(np.vstack([Ds,F,G,G,F,Ds,F,G,G,F,As,C,Cs,Cs,C,As,C,Cs,As,G,G,G,F,C,G,G,F,B,G,As,As,G,As,G,G,As,As,C,Ds,Ds,Ds,F,G,G,F,Ds,F,G,G,F,As,C,Cs,Cs,C,As,C,Cs,As,G,G,G,F,C,G,G,F,B,G,As,As,G,As,G,G,As,As,C,Ds,Ds]))\n",
    "thirtyone = np.transpose(np.vstack([Ds,C,Ds,C,Ds,C,Ds,D,As,D,As,D,Ds,C,Ds,C,Ds,C,Ds,As,C,C,C,F,Ds,F,G,G,F,Ds,F,G,G,F,As,C,Cs,Cs,C,As,C,Cs,As,G,G,G,F,C,G,G,F,B,G,As,As,G,As,G,G,As,As,As,C,Ds,Ds]))\n",
    "thirtytwo = np.transpose(np.vstack([G,G,As,G,F,G,G,G,As,G,F,G,G,G,As,G,F,G,G,G,As,G,F,G,D,G,A,As,As,C,As,G,G,A,As,As,F,Gs,Gs,Gs,As,Gs,Fs,F,F,F,Gs,Gs,Cs,Fs,Gs,A,A,A,B,A,Fs,Fs,A,A,A,A,A,A,B,A,Fs,Fs,A,A,D,D,C,D,C,As,D,C,C,As,As,C,C,G,G,G,F,Ds,F,G,As,G,Ds,F,Fs]))\n",
    "thirtythree = np.transpose(np.vstack([A,D,C,D,C,D,E,F,G,A,As,C,D,G,F,G,F,A,As,A,D,C,D,C,D,E,F,G,A,As,C,D,G,F,G,F,A,C,D,D,D,C,As,F,G,Gs,Gs,Gs,Gs,Gs,Fs,Cs,Ds,E,E,E,E,E,D,Fs,A,Cs,Cs,As,A,D,C,D,C,D,E,F,G,A,As,C,D,E,D,A,G,F]))\n",
    "thirtyfour = np.transpose(np.vstack([A,Gs,As,C,C,Ds,D,As,G,C,Ds,C,As,G,F,As,F,G,F,Gs,As,C,C,Ds,F,D,C,C,Ds,C,As,G,F,As,F,G,C,G,Ds,F,G,Gs,As,C,Gs,F,G,Gs,As,C,D,E,D,As,A,A,A,Gs,As,C,C,Ds,D,As,G,C,Ds,C,As,G,F,As,F,G,F,Gs,As,C,C,Ds,F,D,C,C,Ds,C,As,G,F,As,F,G]))\n",
    "thirtyfive = np.transpose(np.vstack([D,G,A,A,B,D,G,A,As,C,F,G,G,A,C,F,G,Gs,D,Ds,F,G,G,G,G,G,G,A,G,A,As,A,G,A,B,A,B,C,D,D,D,D,D,D,G,A,A,B,D,G,A,As,C,F,G,G,A,C,F,G,Gs,D,Ds,F,G,G,G,G,G,G,A,G,A,B,A,B,C,D,D,D,D,D,D,G,A,G]))\n",
    "thirtysix = np.transpose(np.vstack([A,As,A,As,A,As,A,As,A,Gs,A,C,B,As,A,A,G,G,A,G,A,G,A,G,A,G,Fs,G,As,A,Gs,G,G,F,F,G,F,G,F,G,F,G,A,F,D,E,D,E,F,F,F,G,F,G,E,F,E,F,E,Ds,E,G,Fs,F,E,E,D]))\n",
    "thirtyseven = np.transpose(np.vstack([E,F,G,B,A,G,E,D,E,G,E,D,E,G,E,D,E,C,E,G,A,B,C,C,C,D,B,A,A,G,E,Fs,G,G,G,A,Fs,G,E,F,G,B,A,G,E,D,E,G,E,D,E,G,E,D,E,C,E,G,A,B,C,C,C,D,B,As,As,A,G,F,E,E,D,C,B,C]))\n",
    "thirtyeight = np.transpose(np.vstack([Ds,F,G,As,C,As,C,As,Cs,C,As,Ds,F,G,As,C,As,Cs,C,As,Ds,F,F,D,C,A,F,D,C,F,C,D,F,Cs,Ds,Cs,Fs,F,D,C,A,F,D,C,F,A,A,F,C,D,F,F,D,C,A,F,D,C,F,C,D,F,Cs,Ds,Cs,Fs,F,D,C,A,F,D,C,F,A,A,F,C,D,F,C,G,Cs,C,C,D,F,Cs,Gs,Cs,D,Ds,E,F,D,C,A,F,D,C,F,C,D,F,Cs,Ds,Cs,Fs,F,D,C,A,F,D,C,F,A,A,F,C,D,F]))\n",
    "thirtynine = np.transpose(np.vstack([C,Ds,G,As,A,Ds,F,G,G,G,B,D,F,D,Ds,C,Ds,F,G,Ds,C,Ds,Ds,As,G,F,D,Ds,F,G,Gs,As,As,B,Gs,D,As,C,G,C,D,Ds,D,C,As,C,D,D,G,A,As,A,G,Gs]))\n",
    "forty = np.transpose(np.vstack([As,G,F,D,Ds,F,G,Gs,As,As,B,Gs,D,As,C,G,C,D,Ds,F,As,C,Cs,C,F,C,Fs,D,G,Ds,C,D,Ds,D,C,As,C,D,Cs,C,Ds,F,G,C,Ds,F,Fs,B,As,F,G,Gs,Gs,As,Gs,G,F,G,G,C,D,Ds,Ds,F,Ds,D,C,D,G,As,D,C,As,G,F,D,Ds,D,G,Gs,As,As,B,Gs,D,B,C,G,C,D,Ds,F,As,C,Cs,C,Ds,F,G,C,Ds,F,Fs,D,Ds]))\n",
    "fortyone = np.transpose(np.vstack([C,B,B,A,B,C,B,A,B,B,As,E,A,E,F,G,D,E,F,F,E,F,E,F,E,E,E,E,F,E,G,F,E,D,E,D,F,E,C,C,D,E,C,D,E,A,B,G,A,B,C,B,B,A,B,C,B,A,B,B,As,E,A,E,F,G,D,E,F,F,E,F,E,F,E,G,F,E,B,Gs,A,D,As,C,A,B,A,B,C]))\n"
   ]
  },
  {
   "cell_type": "markdown",
   "metadata": {},
   "source": [
    "# Subsequence DTW"
   ]
  },
  {
   "cell_type": "markdown",
   "metadata": {},
   "source": [
    "DTW overall process\n",
    "- compute the cost matrix based on cosine distance\n",
    "- use dynamic programming to find our cumulative cost matrix and our backtrace matrix\n",
    "- construct the optima"
   ]
  },
  {
   "cell_type": "code",
   "execution_count": 18,
   "execution_count": 29,
   "metadata": {},
   "outputs": [],
   "source": [
    "def computeCostMatrix_cosdist(Fquery,Fref):\n",
    "    '''\n",
    "    Computes the cosine distance cost matrix.\n",
    "    \n",
    "    Arguments:\n",
    "    Fquery -- the query chroma feature matrix of dimension (12, # query frames), this feature\n",
    "              matrix is assumed to be L2 normalized\n",
    "    Fref -- the reference feature matrix, of dimension (12, # reference frames), this feature\n",
    "            matrix is assumed to be L2 normalized\n",
    "    \n",
    "    Returns:\n",
    "    C -- cost matrix whose (i,j)th element specifies the cosine distance between the i-th query frame\n",
    "         and the j-th reference frame\n",
    "    '''\n",
    "    # Fquery = Fquery[:,-window:]\n",
    "    product = np.dot(np.transpose(Fquery), Fref)\n",
    "    ones = np.ones_like(product)\n",
    "    C = 1- product\n",
    "    return C"
   ]
  },
  {
   "cell_type": "code",
   "execution_count": 19,
   "execution_count": 30,
   "metadata": {},
   "outputs": [],
   "source": [
    "def subsequenceDTW(Fquery,Fref, steps, weights):\n",
    "    '''\n",
    "    Find the optimal subsequence path through cost matrix C.\n",
    "    \n",
    "    Arguments:\n",
    "    C -- cost matrix of dimension (# query frames, # reference frames)\n",
    "    steps -- a numpy matrix specifying the allowable transitions.  It should be of\n",
    "            dimension (L, 2), where each row specifies (row step, col step)\n",
    "    weights -- a vector of size L specifying the multiplicative weights associated \n",
    "                with each of the allowable transitions\n",
    "                \n",
    "    Returns:\n",
    "    optcost -- the optimal subsequence path score\n",
    "    path -- a matrix with 2 columns specifying the optimal subsequence path.  Each row \n",
    "            specifies the (row, col) coordinate.\n",
    "    '''\n",
    "    C = computeCostMatrix_cosdist(Fquery,Fref)\n",
    "    D = np.zeros(C.shape)\n",
    "    x, y = D.shape\n",
    "    B = np.zeros(C.shape)\n",
    "    #Initialize the first row to be the same as the Cost matrix\n",
    "    for i in range(0, y):\n",
    "        D[0,i] = C[0,i]\n",
    "    #Loop through the rest of the entries in D, filling them with the minimum cost possible with the provided steps and weights \n",
    "    for j in range(0, y):\n",
    "        for i in range(1, x):\n",
    "            minimum = math.inf\n",
    "            B[i,j] = -1\n",
    "            for idx, step in enumerate(steps):\n",
    "                if i-step[0]>-1 and j-step[1]>-1:\n",
    "                    if (weights[idx] *C[i,j] + D[i-step[0], j-step[1]]) < minimum:\n",
    "                        minimum = weights[idx] *C[i,j] + D[i-step[0], j-step[1]]\n",
    "                        B[i,j] = idx\n",
    "            D[i, j] = minimum\n",
    "    #Backtrace and find the optimal path\n",
    "    path = backtrace(D,B,steps)\n",
    "    path = np.array(path)\n",
    "    #The minimum cost value in the last row is our optimal cost\n",
    "    endindex =  np.where(D[-1][:] == np.amin(D[-1][:]))[0][0]\n",
    "    optcost = D[-1][endindex]\n",
    "    return optcost, path, C\n"
   ]
  },
  {
   "cell_type": "code",
   "execution_count": 20,
   "execution_count": 31,
   "metadata": {},
   "outputs": [],
   "source": [
    "def backtrace(D, B, steps):\n",
    "    '''\n",
    "    Backtraces through the cumulative cost matrix D.\n",
    "    \n",
    "    Arguments:\n",
    "    D -- cumulative cost matrix\n",
    "    B -- backtrace matrix\n",
    "    steps -- a numpy matrix specifying the allowable transitions.  It should be of\n",
    "            dimension (L, 2), where each row specifies (row step, col step)\n",
    "    \n",
    "    Returns:\n",
    "    path -- a python list of (row, col) coordinates for the optimal path.\n",
    "    '''\n",
    "    \n",
    "    #Follow the steps back to row zero\n",
    "    path = []\n",
    "    endindex =  np.where(D[-1][:] == np.amin(D[-1][:]))[0][0]\n",
    "    point = [D.shape[0]-1, endindex]\n",
    "    path.append(point)\n",
    "    #iterate through all transitions\n",
    "    while point[0]>0:\n",
    "        stepNum = B[point[0],point[1]]\n",
    "        transition = steps[int(stepNum)]\n",
    "        point = [int(point[0]-transition[0]),int(point[1]-transition[1])]\n",
    "        path.append(point)\n",
    "        \n",
    "    \n",
    "    return path"
   ]
  },
  {
   "cell_type": "code",
   "execution_count": 21,
   "execution_count": 32,
   "metadata": {},
   "outputs": [
    {
     "name": "stdout",
     "output_type": "stream",
     "text": [
      "(12, 363)\n"
     ]
    }
   ],
   "source": [
    "steps = np.array([1, 0, 1, 1]).reshape((2,2))\n",
    "weights = [1.01,1]\n",
    "Fquery = extractChromaFeatures('Recordings/3.mp3')\n",
    "Fref = three\n",
    "Y = Fref\n",
    "print(Fquery.shape)\n",
    "#D, path = lb.sequence.dtw(Y = None, X = None, C = Cost, step_sizes_sigma=steps, weights_mul=weights, metric = 'cosine', subseq=True)\n",
    "optcost, path, C = subsequenceDTW(Fquery, Fref, steps, weights)"
   ]
  },
  {
   "cell_type": "markdown",
   "metadata": {},
   "source": [
    "# Important notes\n",
    "So far, this just uses the built in dtw. I put my own dtw code above in case you want to use that instead. To plot my dtw patch, swap point[1] and point[0] in the plotter. I think we should just use the built in one unless we want to add functionality that isn't possible with the built in one for runtime sake"
   ]
  },
  {
   "cell_type": "code",
   "execution_count": 22,
   "execution_count": 33,
   "metadata": {
    "scrolled": true
   },
   "outputs": [
    {
     "data": {
      "text/plain": [
       "Text(0.5, 1.0, 'Optimal Path')"
      ]
     },
     "execution_count": 22,
     "execution_count": 33,
     "metadata": {},
     "output_type": "execute_result"
    },
    {
     "data": {
      "image/png": "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\n",
      "text/plain": [
       "<Figure size 432x288 with 2 Axes>"
      ]
     },
     "metadata": {
      "needs_background": "light"
     },
     "output_type": "display_data"
    }
   ],
   "source": [
    "### START CODE BLOCK ###\n",
    "import matplotlib.cm as cm\n",
    "fig = plt.figure(1)\n",
    "ax = fig.add_subplot(111)\n",
    "plot1 = plt.imshow(C.T, origin='lower', cmap='Reds', interpolation='nearest', aspect = 'auto')\n",
    "plt.colorbar()\n",
    "path_x = [point[0] for point in path]\n",
    "path_y = [point[1] for point in path]\n",
    "plot2 = plt.plot(path_x, path_y, 'B')\n",
    "xlim = ax.set_xlim((-0.5, C.shape[0]-0.5))\n",
    "ylim = ax.set_ylim((-0.5, C.shape[1]-0.5))\n",
    "plt.xlabel(\"Rows(Query points)\")\n",
    "plt.ylabel(\"Cols(Reference points)\")\n",
    "plt.title(\"Optimal Path\")"
   ]
  },
  {
   "cell_type": "code",
   "execution_count": 23,
   "metadata": {},
   "outputs": [],
   "execution_count": 34,
   "metadata": {},
   "outputs": [
    {
     "name": "stdout",
     "output_type": "stream",
     "text": [
      "[[199  25]\n",
      " [198  25]\n",
      " [197  25]\n",
      " [196  25]\n",
      " [195  25]\n",
      " [194  25]\n",
      " [193  25]\n",
      " [192  25]\n",
      " [191  25]\n",
      " [190  25]\n",
      " [189  25]\n",
      " [188  25]\n",
      " [187  25]\n",
      " [186  25]\n",
      " [185  25]\n",
      " [184  25]\n",
      " [183  25]\n",
      " [182  25]\n",
      " [181  25]\n",
      " [180  25]\n",
      " [179  25]\n",
      " [178  25]\n",
      " [177  25]\n",
      " [176  25]\n",
      " [175  25]\n",
      " [174  25]\n",
      " [173  25]\n",
      " [172  25]\n",
      " [171  25]\n",
      " [170  25]\n",
      " [169  25]\n",
      " [168  25]\n",
      " [167  25]\n",
      " [166  25]\n",
      " [165  25]\n",
      " [164  25]\n",
      " [163  25]\n",
      " [162  24]\n",
      " [161  24]\n",
      " [160  24]\n",
      " [159  24]\n",
      " [158  24]\n",
      " [157  24]\n",
      " [156  24]\n",
      " [155  24]\n",
      " [154  24]\n",
      " [153  24]\n",
      " [152  24]\n",
      " [151  24]\n",
      " [150  23]\n",
      " [149  23]\n",
      " [148  23]\n",
      " [147  23]\n",
      " [146  23]\n",
      " [145  23]\n",
      " [144  23]\n",
      " [143  23]\n",
      " [142  23]\n",
      " [141  23]\n",
      " [140  23]\n",
      " [139  23]\n",
      " [138  22]\n",
      " [137  22]\n",
      " [136  22]\n",
      " [135  22]\n",
      " [134  22]\n",
      " [133  22]\n",
      " [132  21]\n",
      " [131  21]\n",
      " [130  21]\n",
      " [129  21]\n",
      " [128  21]\n",
      " [127  21]\n",
      " [126  20]\n",
      " [125  20]\n",
      " [124  20]\n",
      " [123  20]\n",
      " [122  20]\n",
      " [121  20]\n",
      " [120  20]\n",
      " [119  20]\n",
      " [118  20]\n",
      " [117  20]\n",
      " [116  20]\n",
      " [115  19]\n",
      " [114  19]\n",
      " [113  19]\n",
      " [112  19]\n",
      " [111  19]\n",
      " [110  19]\n",
      " [109  19]\n",
      " [108  19]\n",
      " [107  19]\n",
      " [106  19]\n",
      " [105  19]\n",
      " [104  19]\n",
      " [103  19]\n",
      " [102  19]\n",
      " [101  19]\n",
      " [100  19]\n",
      " [ 99  19]\n",
      " [ 98  19]\n",
      " [ 97  19]\n",
      " [ 96  19]\n",
      " [ 95  19]\n",
      " [ 94  19]\n",
      " [ 93  19]\n",
      " [ 92  19]\n",
      " [ 91  18]\n",
      " [ 90  18]\n",
      " [ 89  18]\n",
      " [ 88  18]\n",
      " [ 87  18]\n",
      " [ 86  18]\n",
      " [ 85  18]\n",
      " [ 84  18]\n",
      " [ 83  18]\n",
      " [ 82  18]\n",
      " [ 81  18]\n",
      " [ 80  18]\n",
      " [ 79  17]\n",
      " [ 78  17]\n",
      " [ 77  17]\n",
      " [ 76  17]\n",
      " [ 75  17]\n",
      " [ 74  17]\n",
      " [ 73  17]\n",
      " [ 72  17]\n",
      " [ 71  17]\n",
      " [ 70  17]\n",
      " [ 69  16]\n",
      " [ 68  16]\n",
      " [ 67  16]\n",
      " [ 66  16]\n",
      " [ 65  16]\n",
      " [ 64  16]\n",
      " [ 63  16]\n",
      " [ 62  16]\n",
      " [ 61  16]\n",
      " [ 60  16]\n",
      " [ 59  16]\n",
      " [ 58  16]\n",
      " [ 57  15]\n",
      " [ 56  15]\n",
      " [ 55  15]\n",
      " [ 54  15]\n",
      " [ 53  15]\n",
      " [ 52  15]\n",
      " [ 51  15]\n",
      " [ 50  15]\n",
      " [ 49  15]\n",
      " [ 48  15]\n",
      " [ 47  14]\n",
      " [ 46  14]\n",
      " [ 45  14]\n",
      " [ 44  14]\n",
      " [ 43  14]\n",
      " [ 42  14]\n",
      " [ 41  14]\n",
      " [ 40  13]\n",
      " [ 39  13]\n",
      " [ 38  13]\n",
      " [ 37  13]\n",
      " [ 36  13]\n",
      " [ 35  13]\n",
      " [ 34  13]\n",
      " [ 33  13]\n",
      " [ 32  13]\n",
      " [ 31  13]\n",
      " [ 30  13]\n",
      " [ 29  13]\n",
      " [ 28  13]\n",
      " [ 27  13]\n",
      " [ 26  13]\n",
      " [ 25  13]\n",
      " [ 24  13]\n",
      " [ 23  12]\n",
      " [ 22  12]\n",
      " [ 21  12]\n",
      " [ 20  12]\n",
      " [ 19  12]\n",
      " [ 18  12]\n",
      " [ 17  12]\n",
      " [ 16  12]\n",
      " [ 15  12]\n",
      " [ 14  12]\n",
      " [ 13  12]\n",
      " [ 12  12]\n",
      " [ 11  12]\n",
      " [ 10  12]\n",
      " [  9  12]\n",
      " [  8  12]\n",
      " [  7  12]\n",
      " [  6  12]\n",
      " [  5  12]\n",
      " [  4  12]\n",
      " [  3  12]\n",
      " [  2  12]\n",
      " [  1  12]\n",
      " [  0  11]]\n"
     ]
    }
   ],
   "source": [
    "endCol = path[0][1]"
   ]
  },
  {
   "cell_type": "code",
   "execution_count": 24,
   "execution_count": null,
   "metadata": {},
   "outputs": [],
   "source": [
    "print(endCol, six.shape[1])"
   ]
  },
  {
   "cell_type": "markdown",
   "metadata": {},
   "source": [
    "For all of the testcases I ran, the endpoint doesnt quite match up. We have work to do lol"
   ]
  }
 ],
 "metadata": {
  "kernelspec": {
   "display_name": "Python 3",
   "language": "python",
   "name": "python3"
  },
  "language_info": {
   "codemirror_mode": {
    "name": "ipython",
    "version": 3
   },
   "file_extension": ".py",
   "mimetype": "text/x-python",
   "name": "python",
   "nbconvert_exporter": "python",
   "pygments_lexer": "ipython3",
   "version": "3.7.6"
  }
 },
 "nbformat": 4,
 "nbformat_minor": 2
}
